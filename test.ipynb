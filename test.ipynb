{
 "cells": [
  {
   "cell_type": "code",
   "execution_count": 2,
   "id": "9bea0228",
   "metadata": {},
   "outputs": [
    {
     "data": {
      "text/plain": [
       "97"
      ]
     },
     "execution_count": 2,
     "metadata": {},
     "output_type": "execute_result"
    }
   ],
   "source": [
    "ord('a')"
   ]
  },
  {
   "cell_type": "code",
   "execution_count": 6,
   "id": "bf538950",
   "metadata": {},
   "outputs": [
    {
     "data": {
      "text/plain": [
       "False"
      ]
     },
     "execution_count": 6,
     "metadata": {},
     "output_type": "execute_result"
    }
   ],
   "source": [
    "'camelCase'.isupper()"
   ]
  },
  {
   "cell_type": "code",
   "execution_count": 7,
   "id": "6a294485",
   "metadata": {},
   "outputs": [
    {
     "data": {
      "text/plain": [
       "1"
      ]
     },
     "execution_count": 7,
     "metadata": {},
     "output_type": "execute_result"
    }
   ],
   "source": [
    "['a','b','c'].index('b')"
   ]
  },
  {
   "cell_type": "code",
   "execution_count": 15,
   "id": "9e95da85",
   "metadata": {},
   "outputs": [
    {
     "data": {
      "text/plain": [
       "['camelCaseCase']"
      ]
     },
     "execution_count": 15,
     "metadata": {},
     "output_type": "execute_result"
    }
   ],
   "source": [
    "import string\n",
    "\n",
    "text.split()"
   ]
  },
  {
   "cell_type": "code",
   "execution_count": 24,
   "id": "99c55b34",
   "metadata": {},
   "outputs": [
    {
     "data": {
      "text/plain": [
       "''"
      ]
     },
     "execution_count": 24,
     "metadata": {},
     "output_type": "execute_result"
    }
   ],
   "source": [
    "text = None\n",
    "\n",
    "def process(word):\n",
    "    if word is None:\n",
    "        return ''\n",
    "    to_list = list(word)\n",
    "    final_string = ''\n",
    "    for idx, letter in enumerate(to_list):\n",
    "        final_string += letter\n",
    "        \n",
    "        if len(to_list) == idx + 1:\n",
    "            return final_string\n",
    "        \n",
    "        \n",
    "        if to_list[idx + 1].isupper():\n",
    "            final_string += ' '    \n",
    "\n",
    "process(text)\n",
    "\n",
    "    "
   ]
  },
  {
   "cell_type": "code",
   "execution_count": 25,
   "id": "e2cc6388",
   "metadata": {},
   "outputs": [
    {
     "data": {
      "text/plain": [
       "11"
      ]
     },
     "execution_count": 25,
     "metadata": {},
     "output_type": "execute_result"
    }
   ],
   "source": [
    "len(\"***********\")"
   ]
  },
  {
   "cell_type": "code",
   "execution_count": null,
   "id": "207e487c",
   "metadata": {},
   "outputs": [
    {
     "data": {
      "text/plain": [
       "'***********'"
      ]
     },
     "execution_count": 78,
     "metadata": {},
     "output_type": "execute_result"
    }
   ],
   "source": []
  },
  {
   "cell_type": "code",
   "execution_count": null,
   "id": "b194225b",
   "metadata": {},
   "outputs": [
    {
     "data": {
      "text/plain": [
       "[' ', '*', '*', '*', '*', ' ', '*']"
      ]
     },
     "execution_count": 76,
     "metadata": {},
     "output_type": "execute_result"
    }
   ],
   "source": [
    "ends = ['*' for _ in range(6 - 1)]\n",
    "# full = ''.join(ends + ['*'] + ends)\n",
    "full = ends + ['*'] + ends\n",
    "test = full.copy()\n",
    "\n",
    "test[0:4] = ' '\n",
    "test[-3:-1] = ' '"
   ]
  },
  {
   "cell_type": "code",
   "execution_count": 57,
   "id": "6989dcfb",
   "metadata": {},
   "outputs": [
    {
     "name": "stdout",
     "output_type": "stream",
     "text": [
      "['*', '***', '*****', '*******', '*********']\n"
     ]
    }
   ],
   "source": [
    "def tower_builder(n_floors):\n",
    "    ends = ['*' for _ in range(n_floors - 1)]\n",
    "    full = ends + ['*'] + ends\n",
    "    tower = []\n",
    "    for idx in range(n_floors - 1, 0, -1):\n",
    "        # print(full[idx, -idx])\n",
    "        tower.append(''.join(full[idx:-idx]))\n",
    "    \n",
    "    return tower\n",
    "        \n",
    "print(tower_builder(6))"
   ]
  },
  {
   "cell_type": "code",
   "execution_count": 79,
   "id": "82f4a38a",
   "metadata": {},
   "outputs": [
    {
     "name": "stdout",
     "output_type": "stream",
     "text": [
      "***loWorld\n"
     ]
    }
   ],
   "source": [
    "s = \"HelloWorld\"\n",
    "n = 3\n",
    "replacement_char = '*'\n",
    "\n",
    "# Replace first `n` characters\n",
    "result = replacement_char * n + s[n:]\n",
    "print(result)  "
   ]
  },
  {
   "cell_type": "code",
   "execution_count": 93,
   "id": "c1796973",
   "metadata": {},
   "outputs": [
    {
     "data": {
      "text/plain": [
       "'  '"
      ]
     },
     "execution_count": 93,
     "metadata": {},
     "output_type": "execute_result"
    }
   ],
   "source": [
    "num = 3\n",
    "full = ('*' * (num - 1)) + '*' + ('*' * (num - 1))\n",
    "test = ' ' * 1\n",
    "test + full[0:0] + test"
   ]
  },
  {
   "cell_type": "code",
   "execution_count": 96,
   "id": "8db27031",
   "metadata": {},
   "outputs": [
    {
     "data": {
      "text/plain": [
       "['  *  ', ' *** ', '*****']"
      ]
     },
     "execution_count": 96,
     "metadata": {},
     "output_type": "execute_result"
    }
   ],
   "source": [
    "def tower_builder(n_floors):\n",
    "    full = ('*' * (n_floors - 1)) + '*' + ('*' * (n_floors - 1))\n",
    "    tower = [full]\n",
    "    for i in range(1, n_floors):\n",
    "        blanks = ' ' * i\n",
    "        tower.append(blanks + full[i:-i] + blanks)\n",
    "    return sorted(tower)\n",
    "    \n",
    "\n",
    "tower_builder(3)"
   ]
  },
  {
   "cell_type": "code",
   "execution_count": null,
   "id": "28af247d",
   "metadata": {},
   "outputs": [
    {
     "data": {
      "text/plain": [
       "['  *  ', ' *** ', '*****']"
      ]
     },
     "execution_count": 101,
     "metadata": {},
     "output_type": "execute_result"
    }
   ],
   "source": [
    "def tower_builder(n_floors):\n",
    "    tower = []\n",
    "    width = 2 * n_floors - 1\n",
    "    for i in range(n_floors):\n",
    "        stars = '*' * (2 * i + 1)\n",
    "        tower.append(stars.center(width))\n",
    "    return tower\n",
    "\n",
    "tower_builder(3)"
   ]
  },
  {
   "cell_type": "code",
   "execution_count": 1,
   "id": "c4c28c3d",
   "metadata": {},
   "outputs": [
    {
     "data": {
      "text/plain": [
       "13"
      ]
     },
     "execution_count": 1,
     "metadata": {},
     "output_type": "execute_result"
    }
   ],
   "source": [
    "len(\" s p a c e s \")"
   ]
  },
  {
   "cell_type": "code",
   "execution_count": 4,
   "id": "e38123a4",
   "metadata": {},
   "outputs": [
    {
     "data": {
      "text/plain": [
       "6"
      ]
     },
     "execution_count": 4,
     "metadata": {},
     "output_type": "execute_result"
    }
   ],
   "source": [
    "text = \" s p a c e s \"\n",
    "len(text.replace(' ', ''))"
   ]
  },
  {
   "cell_type": "code",
   "execution_count": 14,
   "id": "91f05527",
   "metadata": {},
   "outputs": [
    {
     "data": {
      "text/plain": [
       "[' S p a c e s ',\n",
       " ' s P a c e s ',\n",
       " ' s p A c e s ',\n",
       " ' s p a C e s ',\n",
       " ' s p a c E s ',\n",
       " ' s p a c e S ']"
      ]
     },
     "execution_count": 14,
     "metadata": {},
     "output_type": "execute_result"
    }
   ],
   "source": [
    "import string\n",
    "\n",
    "waves = []\n",
    "parsed = text.replace(' ', '')\n",
    "for idx, letter in enumerate(text):\n",
    "    if not letter.isalpha():\n",
    "        continue\n",
    "    \n",
    "    waves.append(text[:idx] + text[idx].upper() + text[idx + 1:])\n",
    "    \n",
    "waves"
   ]
  },
  {
   "cell_type": "code",
   "execution_count": 16,
   "id": "34a64983",
   "metadata": {},
   "outputs": [
    {
     "data": {
      "text/plain": [
       "[' S p a c e s ',\n",
       " ' s P a c e s ',\n",
       " ' s p A c e s ',\n",
       " ' s p a C e s ',\n",
       " ' s p a c E s ',\n",
       " ' s p a c e S ']"
      ]
     },
     "execution_count": 16,
     "metadata": {},
     "output_type": "execute_result"
    }
   ],
   "source": [
    "[text[:idx] + text[idx].upper() + text[idx + 1:] for idx, letter in enumerate(text) if letter.isalpha()]"
   ]
  },
  {
   "cell_type": "code",
   "execution_count": 9,
   "id": "b779230d",
   "metadata": {},
   "outputs": [
    {
     "data": {
      "text/plain": [
       "'abcdefghijklmnopqrstuvwxyzABCDEFGHIJKLMNOPQRSTUVWXYZ'"
      ]
     },
     "execution_count": 9,
     "metadata": {},
     "output_type": "execute_result"
    }
   ],
   "source": [
    "import string\n",
    "\n",
    "string.ascii_letters"
   ]
  },
  {
   "cell_type": "code",
   "execution_count": 2,
   "id": "575134b3",
   "metadata": {},
   "outputs": [
    {
     "data": {
      "text/plain": [
       "0.5999999999999996"
      ]
     },
     "execution_count": 2,
     "metadata": {},
     "output_type": "execute_result"
    }
   ],
   "source": [
    "import math\n",
    "\n",
    "5.6 % 1"
   ]
  },
  {
   "cell_type": "code",
   "execution_count": 3,
   "id": "ff69f6d8",
   "metadata": {},
   "outputs": [
    {
     "data": {
      "text/plain": [
       "6"
      ]
     },
     "execution_count": 3,
     "metadata": {},
     "output_type": "execute_result"
    }
   ],
   "source": [
    "def round(num):\n",
    "    return math.ceil(num) if num % 1 >= 0.5 else math.floor(num)\n",
    "\n",
    "round(5.6)"
   ]
  },
  {
   "cell_type": "code",
   "execution_count": 4,
   "id": "18d94810",
   "metadata": {},
   "outputs": [
    {
     "data": {
      "text/plain": [
       "4"
      ]
     },
     "execution_count": 4,
     "metadata": {},
     "output_type": "execute_result"
    }
   ],
   "source": [
    "round(4.3)"
   ]
  },
  {
   "cell_type": "markdown",
   "id": "f82500ac",
   "metadata": {},
   "source": [
    "f\"{value:{fill}{align}{width}}\""
   ]
  },
  {
   "cell_type": "code",
   "execution_count": 37,
   "id": "3b89844f",
   "metadata": {},
   "outputs": [
    {
     "data": {
      "text/plain": [
       "'00FF7D'"
      ]
     },
     "execution_count": 37,
     "metadata": {},
     "output_type": "execute_result"
    }
   ],
   "source": [
    "# def round(num):\n",
    "#     return 0 if num < 0 else (255 if num > 255 else num)\n",
    "\n",
    "\n",
    "def rgb(r, g, b):\n",
    "    round = lambda num: min(255, max(num, 0))\n",
    "    return '{:0>2X}{:0>2X}{:0>2X}'.format(round(r), round(g), round(b))\n",
    "\n",
    "\n",
    "rgb(-20, 275, 125)"
   ]
  },
  {
   "cell_type": "code",
   "execution_count": 1,
   "id": "44b9c9b7",
   "metadata": {},
   "outputs": [
    {
     "data": {
      "text/plain": [
       "array([ 1,  4,  8,  7,  3, 15])"
      ]
     },
     "execution_count": 1,
     "metadata": {},
     "output_type": "execute_result"
    }
   ],
   "source": [
    "import numpy as np\n",
    "\n",
    "def sum_pairs(ints, s):\n",
    "    # return np.repeat(s, len(ints)) - np.array(ints)\n",
    "    return np.array(ints)\n",
    "\n",
    "sum_pairs([1, 4, 8, 7, 3, 15], 8)"
   ]
  },
  {
   "cell_type": "code",
   "execution_count": null,
   "id": "c6309910",
   "metadata": {},
   "outputs": [
    {
     "data": {
      "text/plain": [
       "array([0, 1, 3])"
      ]
     },
     "execution_count": 5,
     "metadata": {},
     "output_type": "execute_result"
    }
   ],
   "source": [
    "# reduction\n",
    "test = np.array([1, 4, 8, 7, 3, 15])\n",
    "s = np.repeat(8, len(test))\n",
    "diff = s - test\n",
    "mask = np.isin(diff, test)\n",
    "indices = np.where(mask)[0]\n",
    "indices\n"
   ]
  },
  {
   "cell_type": "code",
   "execution_count": 26,
   "id": "5f6f57c8",
   "metadata": {},
   "outputs": [
    {
     "data": {
      "text/plain": [
       "array([ 7,  4,  0,  1,  5, -7])"
      ]
     },
     "execution_count": 26,
     "metadata": {},
     "output_type": "execute_result"
    }
   ],
   "source": [
    "diff"
   ]
  },
  {
   "cell_type": "code",
   "execution_count": null,
   "id": "77d16d23",
   "metadata": {},
   "outputs": [
    {
     "name": "stdout",
     "output_type": "stream",
     "text": [
      "2\n"
     ]
    }
   ],
   "source": [
    "reduced = test[indices]\n",
    "pairs = None\n",
    "min_index = 0\n",
    "for idx, num in enumerate(reduced):\n",
    "    if idx >= min_index and idx != 0:\n",
    "        break\n",
    "    res = np.where((diff[indices] == num) & (test[indices] != num))[0]\n",
    "    # min_index = res[0] if res.size > 0 else min_index\n",
    "        \n",
    "    \n",
    "print(min_index)\n",
    "    "
   ]
  },
  {
   "cell_type": "code",
   "execution_count": 46,
   "id": "2fbf43f6",
   "metadata": {},
   "outputs": [
    {
     "data": {
      "text/plain": [
       "0"
      ]
     },
     "execution_count": 46,
     "metadata": {},
     "output_type": "execute_result"
    }
   ],
   "source": [
    "def sum_pairs(ints, s):\n",
    "    ints_arr = np.array(ints)\n",
    "    s_arr = np.repeat(s, len(ints))\n",
    "    diff = s_arr - test\n",
    "    mask = np.isin(diff, test)\n",
    "    indices = np.where(mask)[0]\n",
    "    min_index = 0\n",
    "    pairs = None\n",
    "    \n",
    "    for idx, num in enumerate(ints_arr[indices]):\n",
    "        if idx >= min_index and idx != 0:\n",
    "            break\n",
    "        \n",
    "        res = np.where((diff[indices] == num) & (test[indices] != num))[0]\n",
    "        if res.size > 0:\n",
    "            test_val = res[0]\n",
    "            min_index = min_index if test_val < min_index else test_val\n",
    "            \n",
    "    return min_index\n",
    "\n",
    "\n",
    "l1 = [1, 4, 8, 7, 3, 15]\n",
    "l2 = [1, -2, 3, 0, -6, 1]\n",
    "l3 = [20, -13, 40]\n",
    "l4 = [1, 2, 3, 4, 1, 0]\n",
    "l5 = [10, 5, 2, 3, 7, 5]\n",
    "l6 = [4, -2, 3, 3, 4]\n",
    "l7 = [0, 2, 0]\n",
    "l8 = [5, 9, 13, -3]\n",
    "l9 = [1] * 10000000\n",
    "l9[len(l9) // 2 - 1] = 6\n",
    "l9[len(l9) // 2] = 7\n",
    "l9[len(l9) - 2] = 8\n",
    "l9[len(l9) - 1] = -3\n",
    "l9[0] = 13\n",
    "l9[1] = 3\n",
    "\n",
    "sum_pairs(l4, 2)"
   ]
  },
  {
   "cell_type": "code",
   "execution_count": 41,
   "id": "7ce73f83",
   "metadata": {},
   "outputs": [
    {
     "data": {
      "text/plain": [
       "array([1, 4, 7])"
      ]
     },
     "execution_count": 41,
     "metadata": {},
     "output_type": "execute_result"
    }
   ],
   "source": [
    "reduced"
   ]
  },
  {
   "cell_type": "code",
   "execution_count": 50,
   "id": "81b20863",
   "metadata": {},
   "outputs": [
    {
     "data": {
      "text/plain": [
       "array([-7, -4, -9, -6,  0, -7])"
      ]
     },
     "execution_count": 50,
     "metadata": {},
     "output_type": "execute_result"
    }
   ],
   "source": [
    "sum_array = np.full_like(l2, -6)\n",
    "\n",
    "addend2 = sum_array - l2\n",
    "addend2"
   ]
  },
  {
   "cell_type": "code",
   "execution_count": 90,
   "id": "fdb39961",
   "metadata": {},
   "outputs": [
    {
     "name": "stdout",
     "output_type": "stream",
     "text": [
      "1 (array([0, 4]),)\n",
      "2 (array([5]),)\n",
      "1 (array([0, 4]),)\n",
      "0 (array([1]),)\n"
     ]
    }
   ],
   "source": [
    "def sum_pairs(ints, s):\n",
    "    sum_array = np.full_like(ints, s)\n",
    "    ints_arr = np.array(ints)\n",
    "    addend2 = sum_array - ints_arr\n",
    "    mask = np.isin(addend2, ints_arr)\n",
    "    indices = np.where(mask)[0]\n",
    "    \n",
    "    for idx in indices:\n",
    "        print(ints_arr[idx], np.where(addend2 == ints_arr[idx]))\n",
    "        \n",
    "# sum_pairs(l4, 2)\n",
    "sum_pairs(l4, 2)"
   ]
  },
  {
   "cell_type": "code",
   "execution_count": 1,
   "id": "f89cf899",
   "metadata": {},
   "outputs": [],
   "source": [
    "from collections import Counter"
   ]
  },
  {
   "cell_type": "code",
   "execution_count": 6,
   "id": "dd36ed8e",
   "metadata": {},
   "outputs": [
    {
     "name": "stdout",
     "output_type": "stream",
     "text": [
      "1 3\n",
      "2 1\n",
      "3 1\n"
     ]
    }
   ],
   "source": [
    "test = [1, 1, 1, 2, 3]\n",
    "for key, val in Counter(test).items():\n",
    "    print(key, val)"
   ]
  },
  {
   "cell_type": "code",
   "execution_count": 1,
   "id": "b42ddf7b",
   "metadata": {},
   "outputs": [
    {
     "data": {
      "text/plain": [
       "[(1, 2, 3),\n",
       " (1, 2, 4),\n",
       " (1, 2, 5),\n",
       " (1, 3, 4),\n",
       " (1, 3, 5),\n",
       " (1, 4, 5),\n",
       " (2, 3, 4),\n",
       " (2, 3, 5),\n",
       " (2, 4, 5),\n",
       " (3, 4, 5)]"
      ]
     },
     "execution_count": 1,
     "metadata": {},
     "output_type": "execute_result"
    }
   ],
   "source": [
    "from itertools import combinations\n",
    "\n",
    "\n",
    "list(combinations([1, 2, 3, 4, 5], 3))"
   ]
  },
  {
   "cell_type": "code",
   "execution_count": 21,
   "id": "32317451",
   "metadata": {},
   "outputs": [],
   "source": [
    "def choose_best_sum(t, k, ls):\n",
    "    subsets = combinations(ls, k)\n",
    "    sum_of_subsets = [s for subset in subsets if (s := sum(subset)) <= t]\n",
    "    return max(sum_of_subsets, default=None)"
   ]
  },
  {
   "cell_type": "code",
   "execution_count": 22,
   "id": "e6b24330",
   "metadata": {},
   "outputs": [
    {
     "data": {
      "text/plain": [
       "163"
      ]
     },
     "execution_count": 22,
     "metadata": {},
     "output_type": "execute_result"
    }
   ],
   "source": [
    "ts = [50, 55, 56, 57, 58]\n",
    "choose_best_sum(163, 3, ts)"
   ]
  },
  {
   "cell_type": "code",
   "execution_count": 19,
   "id": "92cf952d",
   "metadata": {},
   "outputs": [],
   "source": [
    "xs = [100, 76, 56, 44, 89, 73, 68, 56, 64, 123, 2333, 144, 50, 132, 123, 34, 89]\n",
    "choose_best_sum(880, 80, xs)"
   ]
  },
  {
   "cell_type": "code",
   "execution_count": 17,
   "id": "659fd3c7",
   "metadata": {},
   "outputs": [
    {
     "data": {
      "text/plain": [
       "[]"
      ]
     },
     "execution_count": 17,
     "metadata": {},
     "output_type": "execute_result"
    }
   ],
   "source": [
    "list(combinations(ts, 8))"
   ]
  },
  {
   "cell_type": "code",
   "execution_count": 42,
   "id": "1b843387",
   "metadata": {},
   "outputs": [
    {
     "data": {
      "text/plain": [
       "['']"
      ]
     },
     "execution_count": 42,
     "metadata": {},
     "output_type": "execute_result"
    }
   ],
   "source": [
    "from collections import Counter\n",
    "\n",
    "\n",
    "text = \"\"\"\n",
    "In a village of La Mancha, the name of which I have no desire to call to\n",
    "mind, there lived not long since one of those gentlemen that keep a lance\n",
    "in the lance-rack, an old buckler, a lean hack, and a greyhound for\n",
    "coursing. An olla of rather more beef than mutton, a salad on most\n",
    "nights, scraps on Saturdays, lentils on Fridays, and a pigeon or so extra\n",
    "on Sundays, made away with three-quarters of his income.\n",
    "\"\"\"\n",
    "\n",
    "text = \"e e e e DDD ddd DdD: ddd ddd aa aA Aa, bb cc cC e e e\"\n",
    "\n",
    "text = \"  //wont won't won't \"\n",
    "\n",
    "# [key for key, val in Counter(text.split(' ')).items()]\n",
    "\n",
    "# text.lower()\n",
    "[word for word, _ in Counter(text.lower().split(' ')).most_common() if word][:3]\n",
    "\n",
    "# Counter(text.split(' '))"
   ]
  },
  {
   "cell_type": "code",
   "execution_count": 38,
   "id": "de5fc4e6",
   "metadata": {},
   "outputs": [
    {
     "data": {
      "text/plain": [
       "False"
      ]
     },
     "execution_count": 38,
     "metadata": {},
     "output_type": "execute_result"
    }
   ],
   "source": [
    "bool('')"
   ]
  }
 ],
 "metadata": {
  "kernelspec": {
   "display_name": "Python 3",
   "language": "python",
   "name": "python3"
  },
  "language_info": {
   "codemirror_mode": {
    "name": "ipython",
    "version": 3
   },
   "file_extension": ".py",
   "mimetype": "text/x-python",
   "name": "python",
   "nbconvert_exporter": "python",
   "pygments_lexer": "ipython3",
   "version": "3.12.1"
  }
 },
 "nbformat": 4,
 "nbformat_minor": 5
}
