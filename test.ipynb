{
 "cells": [
  {
   "cell_type": "code",
   "execution_count": 2,
   "id": "9bea0228",
   "metadata": {},
   "outputs": [
    {
     "data": {
      "text/plain": [
       "97"
      ]
     },
     "execution_count": 2,
     "metadata": {},
     "output_type": "execute_result"
    }
   ],
   "source": [
    "ord('a')"
   ]
  },
  {
   "cell_type": "code",
   "execution_count": 6,
   "id": "bf538950",
   "metadata": {},
   "outputs": [
    {
     "data": {
      "text/plain": [
       "False"
      ]
     },
     "execution_count": 6,
     "metadata": {},
     "output_type": "execute_result"
    }
   ],
   "source": [
    "'camelCase'.isupper()"
   ]
  },
  {
   "cell_type": "code",
   "execution_count": 7,
   "id": "6a294485",
   "metadata": {},
   "outputs": [
    {
     "data": {
      "text/plain": [
       "1"
      ]
     },
     "execution_count": 7,
     "metadata": {},
     "output_type": "execute_result"
    }
   ],
   "source": [
    "['a','b','c'].index('b')"
   ]
  },
  {
   "cell_type": "code",
   "execution_count": 15,
   "id": "9e95da85",
   "metadata": {},
   "outputs": [
    {
     "data": {
      "text/plain": [
       "['camelCaseCase']"
      ]
     },
     "execution_count": 15,
     "metadata": {},
     "output_type": "execute_result"
    }
   ],
   "source": [
    "import string\n",
    "\n",
    "text.split()"
   ]
  },
  {
   "cell_type": "code",
   "execution_count": 24,
   "id": "99c55b34",
   "metadata": {},
   "outputs": [
    {
     "data": {
      "text/plain": [
       "''"
      ]
     },
     "execution_count": 24,
     "metadata": {},
     "output_type": "execute_result"
    }
   ],
   "source": [
    "text = None\n",
    "\n",
    "def process(word):\n",
    "    if word is None:\n",
    "        return ''\n",
    "    to_list = list(word)\n",
    "    final_string = ''\n",
    "    for idx, letter in enumerate(to_list):\n",
    "        final_string += letter\n",
    "        \n",
    "        if len(to_list) == idx + 1:\n",
    "            return final_string\n",
    "        \n",
    "        \n",
    "        if to_list[idx + 1].isupper():\n",
    "            final_string += ' '    \n",
    "\n",
    "process(text)\n",
    "\n",
    "    "
   ]
  },
  {
   "cell_type": "code",
   "execution_count": 25,
   "id": "e2cc6388",
   "metadata": {},
   "outputs": [
    {
     "data": {
      "text/plain": [
       "11"
      ]
     },
     "execution_count": 25,
     "metadata": {},
     "output_type": "execute_result"
    }
   ],
   "source": [
    "len(\"***********\")"
   ]
  },
  {
   "cell_type": "code",
   "execution_count": null,
   "id": "207e487c",
   "metadata": {},
   "outputs": [
    {
     "data": {
      "text/plain": [
       "'***********'"
      ]
     },
     "execution_count": 78,
     "metadata": {},
     "output_type": "execute_result"
    }
   ],
   "source": []
  },
  {
   "cell_type": "code",
   "execution_count": null,
   "id": "b194225b",
   "metadata": {},
   "outputs": [
    {
     "data": {
      "text/plain": [
       "[' ', '*', '*', '*', '*', ' ', '*']"
      ]
     },
     "execution_count": 76,
     "metadata": {},
     "output_type": "execute_result"
    }
   ],
   "source": [
    "ends = ['*' for _ in range(6 - 1)]\n",
    "# full = ''.join(ends + ['*'] + ends)\n",
    "full = ends + ['*'] + ends\n",
    "test = full.copy()\n",
    "\n",
    "test[0:4] = ' '\n",
    "test[-3:-1] = ' '"
   ]
  },
  {
   "cell_type": "code",
   "execution_count": 57,
   "id": "6989dcfb",
   "metadata": {},
   "outputs": [
    {
     "name": "stdout",
     "output_type": "stream",
     "text": [
      "['*', '***', '*****', '*******', '*********']\n"
     ]
    }
   ],
   "source": [
    "def tower_builder(n_floors):\n",
    "    ends = ['*' for _ in range(n_floors - 1)]\n",
    "    full = ends + ['*'] + ends\n",
    "    tower = []\n",
    "    for idx in range(n_floors - 1, 0, -1):\n",
    "        # print(full[idx, -idx])\n",
    "        tower.append(''.join(full[idx:-idx]))\n",
    "    \n",
    "    return tower\n",
    "        \n",
    "print(tower_builder(6))"
   ]
  },
  {
   "cell_type": "code",
   "execution_count": 79,
   "id": "82f4a38a",
   "metadata": {},
   "outputs": [
    {
     "name": "stdout",
     "output_type": "stream",
     "text": [
      "***loWorld\n"
     ]
    }
   ],
   "source": [
    "s = \"HelloWorld\"\n",
    "n = 3\n",
    "replacement_char = '*'\n",
    "\n",
    "# Replace first `n` characters\n",
    "result = replacement_char * n + s[n:]\n",
    "print(result)  "
   ]
  },
  {
   "cell_type": "code",
   "execution_count": 93,
   "id": "c1796973",
   "metadata": {},
   "outputs": [
    {
     "data": {
      "text/plain": [
       "'  '"
      ]
     },
     "execution_count": 93,
     "metadata": {},
     "output_type": "execute_result"
    }
   ],
   "source": [
    "num = 3\n",
    "full = ('*' * (num - 1)) + '*' + ('*' * (num - 1))\n",
    "test = ' ' * 1\n",
    "test + full[0:0] + test"
   ]
  },
  {
   "cell_type": "code",
   "execution_count": 96,
   "id": "8db27031",
   "metadata": {},
   "outputs": [
    {
     "data": {
      "text/plain": [
       "['  *  ', ' *** ', '*****']"
      ]
     },
     "execution_count": 96,
     "metadata": {},
     "output_type": "execute_result"
    }
   ],
   "source": [
    "def tower_builder(n_floors):\n",
    "    full = ('*' * (n_floors - 1)) + '*' + ('*' * (n_floors - 1))\n",
    "    tower = [full]\n",
    "    for i in range(1, n_floors):\n",
    "        blanks = ' ' * i\n",
    "        tower.append(blanks + full[i:-i] + blanks)\n",
    "    return sorted(tower)\n",
    "    \n",
    "\n",
    "tower_builder(3)"
   ]
  },
  {
   "cell_type": "code",
   "execution_count": null,
   "id": "28af247d",
   "metadata": {},
   "outputs": [
    {
     "data": {
      "text/plain": [
       "['  *  ', ' *** ', '*****']"
      ]
     },
     "execution_count": 101,
     "metadata": {},
     "output_type": "execute_result"
    }
   ],
   "source": [
    "def tower_builder(n_floors):\n",
    "    tower = []\n",
    "    width = 2 * n_floors - 1\n",
    "    for i in range(n_floors):\n",
    "        stars = '*' * (2 * i + 1)\n",
    "        tower.append(stars.center(width))\n",
    "    return tower\n",
    "\n",
    "tower_builder(3)"
   ]
  },
  {
   "cell_type": "code",
   "execution_count": 1,
   "id": "c4c28c3d",
   "metadata": {},
   "outputs": [
    {
     "data": {
      "text/plain": [
       "13"
      ]
     },
     "execution_count": 1,
     "metadata": {},
     "output_type": "execute_result"
    }
   ],
   "source": [
    "len(\" s p a c e s \")"
   ]
  },
  {
   "cell_type": "code",
   "execution_count": 4,
   "id": "e38123a4",
   "metadata": {},
   "outputs": [
    {
     "data": {
      "text/plain": [
       "6"
      ]
     },
     "execution_count": 4,
     "metadata": {},
     "output_type": "execute_result"
    }
   ],
   "source": [
    "text = \" s p a c e s \"\n",
    "len(text.replace(' ', ''))"
   ]
  },
  {
   "cell_type": "code",
   "execution_count": 14,
   "id": "91f05527",
   "metadata": {},
   "outputs": [
    {
     "data": {
      "text/plain": [
       "[' S p a c e s ',\n",
       " ' s P a c e s ',\n",
       " ' s p A c e s ',\n",
       " ' s p a C e s ',\n",
       " ' s p a c E s ',\n",
       " ' s p a c e S ']"
      ]
     },
     "execution_count": 14,
     "metadata": {},
     "output_type": "execute_result"
    }
   ],
   "source": [
    "import string\n",
    "\n",
    "waves = []\n",
    "parsed = text.replace(' ', '')\n",
    "for idx, letter in enumerate(text):\n",
    "    if not letter.isalpha():\n",
    "        continue\n",
    "    \n",
    "    waves.append(text[:idx] + text[idx].upper() + text[idx + 1:])\n",
    "    \n",
    "waves"
   ]
  },
  {
   "cell_type": "code",
   "execution_count": 16,
   "id": "34a64983",
   "metadata": {},
   "outputs": [
    {
     "data": {
      "text/plain": [
       "[' S p a c e s ',\n",
       " ' s P a c e s ',\n",
       " ' s p A c e s ',\n",
       " ' s p a C e s ',\n",
       " ' s p a c E s ',\n",
       " ' s p a c e S ']"
      ]
     },
     "execution_count": 16,
     "metadata": {},
     "output_type": "execute_result"
    }
   ],
   "source": [
    "[text[:idx] + text[idx].upper() + text[idx + 1:] for idx, letter in enumerate(text) if letter.isalpha()]"
   ]
  },
  {
   "cell_type": "code",
   "execution_count": 9,
   "id": "b779230d",
   "metadata": {},
   "outputs": [
    {
     "data": {
      "text/plain": [
       "'abcdefghijklmnopqrstuvwxyzABCDEFGHIJKLMNOPQRSTUVWXYZ'"
      ]
     },
     "execution_count": 9,
     "metadata": {},
     "output_type": "execute_result"
    }
   ],
   "source": [
    "import string\n",
    "\n",
    "string.ascii_letters"
   ]
  },
  {
   "cell_type": "code",
   "execution_count": 2,
   "id": "575134b3",
   "metadata": {},
   "outputs": [
    {
     "data": {
      "text/plain": [
       "0.5999999999999996"
      ]
     },
     "execution_count": 2,
     "metadata": {},
     "output_type": "execute_result"
    }
   ],
   "source": [
    "import math\n",
    "\n",
    "5.6 % 1"
   ]
  },
  {
   "cell_type": "code",
   "execution_count": 3,
   "id": "ff69f6d8",
   "metadata": {},
   "outputs": [
    {
     "data": {
      "text/plain": [
       "6"
      ]
     },
     "execution_count": 3,
     "metadata": {},
     "output_type": "execute_result"
    }
   ],
   "source": [
    "def round(num):\n",
    "    return math.ceil(num) if num % 1 >= 0.5 else math.floor(num)\n",
    "\n",
    "round(5.6)"
   ]
  },
  {
   "cell_type": "code",
   "execution_count": 4,
   "id": "18d94810",
   "metadata": {},
   "outputs": [
    {
     "data": {
      "text/plain": [
       "4"
      ]
     },
     "execution_count": 4,
     "metadata": {},
     "output_type": "execute_result"
    }
   ],
   "source": [
    "round(4.3)"
   ]
  },
  {
   "cell_type": "markdown",
   "id": "f82500ac",
   "metadata": {},
   "source": [
    "f\"{value:{fill}{align}{width}}\""
   ]
  },
  {
   "cell_type": "code",
   "execution_count": 37,
   "id": "3b89844f",
   "metadata": {},
   "outputs": [
    {
     "data": {
      "text/plain": [
       "'00FF7D'"
      ]
     },
     "execution_count": 37,
     "metadata": {},
     "output_type": "execute_result"
    }
   ],
   "source": [
    "# def round(num):\n",
    "#     return 0 if num < 0 else (255 if num > 255 else num)\n",
    "\n",
    "\n",
    "def rgb(r, g, b):\n",
    "    round = lambda num: min(255, max(num, 0))\n",
    "    return '{:0>2X}{:0>2X}{:0>2X}'.format(round(r), round(g), round(b))\n",
    "\n",
    "\n",
    "rgb(-20, 275, 125)"
   ]
  },
  {
   "cell_type": "code",
   "execution_count": 1,
   "id": "44b9c9b7",
   "metadata": {},
   "outputs": [
    {
     "data": {
      "text/plain": [
       "array([ 1,  4,  8,  7,  3, 15])"
      ]
     },
     "execution_count": 1,
     "metadata": {},
     "output_type": "execute_result"
    }
   ],
   "source": [
    "import numpy as np\n",
    "\n",
    "def sum_pairs(ints, s):\n",
    "    # return np.repeat(s, len(ints)) - np.array(ints)\n",
    "    return np.array(ints)\n",
    "\n",
    "sum_pairs([1, 4, 8, 7, 3, 15], 8)"
   ]
  },
  {
   "cell_type": "code",
   "execution_count": null,
   "id": "c6309910",
   "metadata": {},
   "outputs": [
    {
     "data": {
      "text/plain": [
       "array([0, 1, 3])"
      ]
     },
     "execution_count": 5,
     "metadata": {},
     "output_type": "execute_result"
    }
   ],
   "source": [
    "# reduction\n",
    "test = np.array([1, 4, 8, 7, 3, 15])\n",
    "s = np.repeat(8, len(test))\n",
    "diff = s - test\n",
    "mask = np.isin(diff, test)\n",
    "indices = np.where(mask)[0]\n",
    "indices\n"
   ]
  },
  {
   "cell_type": "code",
   "execution_count": 26,
   "id": "5f6f57c8",
   "metadata": {},
   "outputs": [
    {
     "data": {
      "text/plain": [
       "array([ 7,  4,  0,  1,  5, -7])"
      ]
     },
     "execution_count": 26,
     "metadata": {},
     "output_type": "execute_result"
    }
   ],
   "source": [
    "diff"
   ]
  },
  {
   "cell_type": "code",
   "execution_count": null,
   "id": "77d16d23",
   "metadata": {},
   "outputs": [
    {
     "name": "stdout",
     "output_type": "stream",
     "text": [
      "2\n"
     ]
    }
   ],
   "source": [
    "reduced = test[indices]\n",
    "pairs = None\n",
    "min_index = 0\n",
    "for idx, num in enumerate(reduced):\n",
    "    if idx >= min_index and idx != 0:\n",
    "        break\n",
    "    res = np.where((diff[indices] == num) & (test[indices] != num))[0]\n",
    "    # min_index = res[0] if res.size > 0 else min_index\n",
    "        \n",
    "    \n",
    "print(min_index)\n",
    "    "
   ]
  },
  {
   "cell_type": "code",
   "execution_count": 46,
   "id": "2fbf43f6",
   "metadata": {},
   "outputs": [
    {
     "data": {
      "text/plain": [
       "0"
      ]
     },
     "execution_count": 46,
     "metadata": {},
     "output_type": "execute_result"
    }
   ],
   "source": [
    "def sum_pairs(ints, s):\n",
    "    ints_arr = np.array(ints)\n",
    "    s_arr = np.repeat(s, len(ints))\n",
    "    diff = s_arr - test\n",
    "    mask = np.isin(diff, test)\n",
    "    indices = np.where(mask)[0]\n",
    "    min_index = 0\n",
    "    pairs = None\n",
    "    \n",
    "    for idx, num in enumerate(ints_arr[indices]):\n",
    "        if idx >= min_index and idx != 0:\n",
    "            break\n",
    "        \n",
    "        res = np.where((diff[indices] == num) & (test[indices] != num))[0]\n",
    "        if res.size > 0:\n",
    "            test_val = res[0]\n",
    "            min_index = min_index if test_val < min_index else test_val\n",
    "            \n",
    "    return min_index\n",
    "\n",
    "\n",
    "l1 = [1, 4, 8, 7, 3, 15]\n",
    "l2 = [1, -2, 3, 0, -6, 1]\n",
    "l3 = [20, -13, 40]\n",
    "l4 = [1, 2, 3, 4, 1, 0]\n",
    "l5 = [10, 5, 2, 3, 7, 5]\n",
    "l6 = [4, -2, 3, 3, 4]\n",
    "l7 = [0, 2, 0]\n",
    "l8 = [5, 9, 13, -3]\n",
    "l9 = [1] * 10000000\n",
    "l9[len(l9) // 2 - 1] = 6\n",
    "l9[len(l9) // 2] = 7\n",
    "l9[len(l9) - 2] = 8\n",
    "l9[len(l9) - 1] = -3\n",
    "l9[0] = 13\n",
    "l9[1] = 3\n",
    "\n",
    "sum_pairs(l4, 2)"
   ]
  },
  {
   "cell_type": "code",
   "execution_count": 41,
   "id": "7ce73f83",
   "metadata": {},
   "outputs": [
    {
     "data": {
      "text/plain": [
       "array([1, 4, 7])"
      ]
     },
     "execution_count": 41,
     "metadata": {},
     "output_type": "execute_result"
    }
   ],
   "source": [
    "reduced"
   ]
  },
  {
   "cell_type": "code",
   "execution_count": 50,
   "id": "81b20863",
   "metadata": {},
   "outputs": [
    {
     "data": {
      "text/plain": [
       "array([-7, -4, -9, -6,  0, -7])"
      ]
     },
     "execution_count": 50,
     "metadata": {},
     "output_type": "execute_result"
    }
   ],
   "source": [
    "sum_array = np.full_like(l2, -6)\n",
    "\n",
    "addend2 = sum_array - l2\n",
    "addend2"
   ]
  },
  {
   "cell_type": "code",
   "execution_count": 90,
   "id": "fdb39961",
   "metadata": {},
   "outputs": [
    {
     "name": "stdout",
     "output_type": "stream",
     "text": [
      "1 (array([0, 4]),)\n",
      "2 (array([5]),)\n",
      "1 (array([0, 4]),)\n",
      "0 (array([1]),)\n"
     ]
    }
   ],
   "source": [
    "def sum_pairs(ints, s):\n",
    "    sum_array = np.full_like(ints, s)\n",
    "    ints_arr = np.array(ints)\n",
    "    addend2 = sum_array - ints_arr\n",
    "    mask = np.isin(addend2, ints_arr)\n",
    "    indices = np.where(mask)[0]\n",
    "    \n",
    "    for idx in indices:\n",
    "        print(ints_arr[idx], np.where(addend2 == ints_arr[idx]))\n",
    "        \n",
    "# sum_pairs(l4, 2)\n",
    "sum_pairs(l4, 2)"
   ]
  },
  {
   "cell_type": "code",
   "execution_count": 1,
   "id": "f89cf899",
   "metadata": {},
   "outputs": [],
   "source": [
    "from collections import Counter"
   ]
  },
  {
   "cell_type": "code",
   "execution_count": 6,
   "id": "dd36ed8e",
   "metadata": {},
   "outputs": [
    {
     "name": "stdout",
     "output_type": "stream",
     "text": [
      "1 3\n",
      "2 1\n",
      "3 1\n"
     ]
    }
   ],
   "source": [
    "test = [1, 1, 1, 2, 3]\n",
    "for key, val in Counter(test).items():\n",
    "    print(key, val)"
   ]
  },
  {
   "cell_type": "code",
   "execution_count": 1,
   "id": "b42ddf7b",
   "metadata": {},
   "outputs": [
    {
     "data": {
      "text/plain": [
       "[(1, 2, 3),\n",
       " (1, 2, 4),\n",
       " (1, 2, 5),\n",
       " (1, 3, 4),\n",
       " (1, 3, 5),\n",
       " (1, 4, 5),\n",
       " (2, 3, 4),\n",
       " (2, 3, 5),\n",
       " (2, 4, 5),\n",
       " (3, 4, 5)]"
      ]
     },
     "execution_count": 1,
     "metadata": {},
     "output_type": "execute_result"
    }
   ],
   "source": [
    "from itertools import combinations\n",
    "\n",
    "\n",
    "list(combinations([1, 2, 3, 4, 5], 3))"
   ]
  },
  {
   "cell_type": "code",
   "execution_count": 21,
   "id": "32317451",
   "metadata": {},
   "outputs": [],
   "source": [
    "def choose_best_sum(t, k, ls):\n",
    "    subsets = combinations(ls, k)\n",
    "    sum_of_subsets = [s for subset in subsets if (s := sum(subset)) <= t]\n",
    "    return max(sum_of_subsets, default=None)"
   ]
  },
  {
   "cell_type": "code",
   "execution_count": 22,
   "id": "e6b24330",
   "metadata": {},
   "outputs": [
    {
     "data": {
      "text/plain": [
       "163"
      ]
     },
     "execution_count": 22,
     "metadata": {},
     "output_type": "execute_result"
    }
   ],
   "source": [
    "ts = [50, 55, 56, 57, 58]\n",
    "choose_best_sum(163, 3, ts)"
   ]
  },
  {
   "cell_type": "code",
   "execution_count": 19,
   "id": "92cf952d",
   "metadata": {},
   "outputs": [],
   "source": [
    "xs = [100, 76, 56, 44, 89, 73, 68, 56, 64, 123, 2333, 144, 50, 132, 123, 34, 89]\n",
    "choose_best_sum(880, 80, xs)"
   ]
  },
  {
   "cell_type": "code",
   "execution_count": 17,
   "id": "659fd3c7",
   "metadata": {},
   "outputs": [
    {
     "data": {
      "text/plain": [
       "[]"
      ]
     },
     "execution_count": 17,
     "metadata": {},
     "output_type": "execute_result"
    }
   ],
   "source": [
    "list(combinations(ts, 8))"
   ]
  },
  {
   "cell_type": "code",
   "execution_count": 47,
   "id": "1b843387",
   "metadata": {},
   "outputs": [
    {
     "data": {
      "text/plain": [
       "[\"won't\", 'wont']"
      ]
     },
     "execution_count": 47,
     "metadata": {},
     "output_type": "execute_result"
    }
   ],
   "source": [
    "from collections import Counter\n",
    "import re\n",
    "\n",
    "text = \"\"\"\n",
    "In a village of La Mancha, the name of which I have no desire to call to\n",
    "mind, there lived not long since one of those gentlemen that keep a lance\n",
    "in the lance-rack, an old buckler, a lean hack, and a greyhound for\n",
    "coursing. An olla of rather more beef than mutton, a salad on most\n",
    "nights, scraps on Saturdays, lentils on Fridays, and a pigeon or so extra\n",
    "on Sundays, made away with three-quarters of his income.\n",
    "\"\"\"\n",
    "\n",
    "text = \"e e e e DDD ddd DdD: ddd ddd aa aA Aa, bb cc cC e e e\"\n",
    "\n",
    "text = \"  //wont won't won't \"\n",
    "\n",
    "# [key for key, val in Counter(text.split(' ')).items()]\n",
    "\n",
    "# text.lower()\n",
    "cleaned = re.sub(r\"[^a-zA-Z']+\", \" \", text).strip()\n",
    "[word for word, _ in Counter(cleaned.lower().split(' ')).most_common() if word][:3]\n",
    "\n",
    "# Counter(text.split(' '))"
   ]
  },
  {
   "cell_type": "code",
   "execution_count": 46,
   "id": "f41fcc22",
   "metadata": {},
   "outputs": [
    {
     "data": {
      "text/plain": [
       "\"wont won't won't\""
      ]
     },
     "execution_count": 46,
     "metadata": {},
     "output_type": "execute_result"
    }
   ],
   "source": [
    "import re\n",
    "re.sub(r\"[^a-zA-Z']+\", \" \", text).strip()"
   ]
  },
  {
   "cell_type": "code",
   "execution_count": 44,
   "id": "de5fc4e6",
   "metadata": {},
   "outputs": [
    {
     "data": {
      "text/plain": [
       "\"  //wont won't won't \""
      ]
     },
     "execution_count": 44,
     "metadata": {},
     "output_type": "execute_result"
    }
   ],
   "source": [
    "# text = \"Café 🍰 is open!\"\n",
    "ascii_text = text.encode(\"ascii\", \"ignore\").decode()\n",
    "ascii_text"
   ]
  },
  {
   "cell_type": "code",
   "execution_count": 48,
   "id": "684ce2c9",
   "metadata": {},
   "outputs": [],
   "source": [
    "import re\n",
    "from collections import Counter\n",
    "\n",
    "\n",
    "def top_3_words(text):\n",
    "    cleaned = re.sub(r\"[^a-zA-Z']+\", \" \", text).strip()\n",
    "    return [word for word, _ in Counter(cleaned.lower().split(' ')).most_common() if word][:3]"
   ]
  },
  {
   "cell_type": "code",
   "execution_count": 49,
   "id": "08a5e1b0",
   "metadata": {},
   "outputs": [
    {
     "data": {
      "text/plain": [
       "[\"'''\"]"
      ]
     },
     "execution_count": 49,
     "metadata": {},
     "output_type": "execute_result"
    }
   ],
   "source": [
    "top_3_words(\"  '''  \")"
   ]
  },
  {
   "cell_type": "code",
   "execution_count": 6,
   "id": "579d3351",
   "metadata": {},
   "outputs": [],
   "source": [
    "def luckBalance(k, contests):\n",
    "    important_contests = []\n",
    "    non_important_contests = []\n",
    "    \n",
    "    for contest in contests:\n",
    "        contest_bracket = important_contests if contest[1] else non_important_contests\n",
    "        contest_bracket.append(contest[0])\n",
    "        \n",
    "    sorted_contests = sorted(important_contests, reverse=True)\n",
    "    print(sorted_contests)\n",
    "    total = sum(sorted_contests[:k]) + sum(non_important_contests) - sum(sorted_contests[k:])\n",
    "    return total"
   ]
  },
  {
   "cell_type": "code",
   "execution_count": 7,
   "id": "303b0a1f",
   "metadata": {},
   "outputs": [
    {
     "name": "stdout",
     "output_type": "stream",
     "text": [
      "[5, 1]\n"
     ]
    },
    {
     "data": {
      "text/plain": [
       "8"
      ]
     },
     "execution_count": 7,
     "metadata": {},
     "output_type": "execute_result"
    }
   ],
   "source": [
    "contests = [[5, 1], [1, 1], [4, 0]]\n",
    "k = 1\n",
    "\n",
    "luckBalance(k, contests)"
   ]
  },
  {
   "cell_type": "code",
   "execution_count": null,
   "id": "9a7b0495",
   "metadata": {},
   "outputs": [],
   "source": [
    "from itertools import permutations\n",
    "\n",
    "def scramble(s1, s2):\n",
    "    s1_counter = Counter(s1)\n",
    "    s2_counter = Counter(s2)\n",
    "    \n",
    "    # print(set(s2_counter.keys) - set(s1_counter.keys))\n",
    "\n",
    "    # for key, val in s2_counter.items():\n",
    "    #     if s1_counter[key] < val:\n",
    "    #         return False\n",
    "    #     return True"
   ]
  },
  {
   "cell_type": "code",
   "execution_count": 31,
   "id": "76bd84d5",
   "metadata": {},
   "outputs": [
    {
     "data": {
      "text/plain": [
       "dict_values([2])"
      ]
     },
     "execution_count": 31,
     "metadata": {},
     "output_type": "execute_result"
    }
   ],
   "source": [
    "from collections import Counter\n",
    "\n",
    "s1 = 'yesyesshow' \n",
    "s2 = 'yesssss'\n",
    "\n",
    "s1_counter = Counter(s1)\n",
    "s2_counter = Counter(s2)\n",
    "\n",
    "(s2_counter - s1_counter).values()"
   ]
  },
  {
   "cell_type": "code",
   "execution_count": 19,
   "id": "1d9127d9",
   "metadata": {},
   "outputs": [
    {
     "data": {
      "text/plain": [
       "[('r', 'k', 'q', 'o', 'd', 'l', 'w'),\n",
       " ('r', 'k', 'q', 'o', 'd', 'w', 'l'),\n",
       " ('r', 'k', 'q', 'o', 'l', 'd', 'w'),\n",
       " ('r', 'k', 'q', 'o', 'l', 'w', 'd'),\n",
       " ('r', 'k', 'q', 'o', 'w', 'd', 'l'),\n",
       " ('r', 'k', 'q', 'o', 'w', 'l', 'd'),\n",
       " ('r', 'k', 'q', 'd', 'o', 'l', 'w'),\n",
       " ('r', 'k', 'q', 'd', 'o', 'w', 'l'),\n",
       " ('r', 'k', 'q', 'd', 'l', 'o', 'w'),\n",
       " ('r', 'k', 'q', 'd', 'l', 'w', 'o'),\n",
       " ('r', 'k', 'q', 'd', 'w', 'o', 'l'),\n",
       " ('r', 'k', 'q', 'd', 'w', 'l', 'o'),\n",
       " ('r', 'k', 'q', 'l', 'o', 'd', 'w'),\n",
       " ('r', 'k', 'q', 'l', 'o', 'w', 'd'),\n",
       " ('r', 'k', 'q', 'l', 'd', 'o', 'w'),\n",
       " ('r', 'k', 'q', 'l', 'd', 'w', 'o'),\n",
       " ('r', 'k', 'q', 'l', 'w', 'o', 'd'),\n",
       " ('r', 'k', 'q', 'l', 'w', 'd', 'o'),\n",
       " ('r', 'k', 'q', 'w', 'o', 'd', 'l'),\n",
       " ('r', 'k', 'q', 'w', 'o', 'l', 'd'),\n",
       " ('r', 'k', 'q', 'w', 'd', 'o', 'l'),\n",
       " ('r', 'k', 'q', 'w', 'd', 'l', 'o'),\n",
       " ('r', 'k', 'q', 'w', 'l', 'o', 'd'),\n",
       " ('r', 'k', 'q', 'w', 'l', 'd', 'o'),\n",
       " ('r', 'k', 'o', 'q', 'd', 'l', 'w'),\n",
       " ('r', 'k', 'o', 'q', 'd', 'w', 'l'),\n",
       " ('r', 'k', 'o', 'q', 'l', 'd', 'w'),\n",
       " ('r', 'k', 'o', 'q', 'l', 'w', 'd'),\n",
       " ('r', 'k', 'o', 'q', 'w', 'd', 'l'),\n",
       " ('r', 'k', 'o', 'q', 'w', 'l', 'd'),\n",
       " ('r', 'k', 'o', 'd', 'q', 'l', 'w'),\n",
       " ('r', 'k', 'o', 'd', 'q', 'w', 'l'),\n",
       " ('r', 'k', 'o', 'd', 'l', 'q', 'w'),\n",
       " ('r', 'k', 'o', 'd', 'l', 'w', 'q'),\n",
       " ('r', 'k', 'o', 'd', 'w', 'q', 'l'),\n",
       " ('r', 'k', 'o', 'd', 'w', 'l', 'q'),\n",
       " ('r', 'k', 'o', 'l', 'q', 'd', 'w'),\n",
       " ('r', 'k', 'o', 'l', 'q', 'w', 'd'),\n",
       " ('r', 'k', 'o', 'l', 'd', 'q', 'w'),\n",
       " ('r', 'k', 'o', 'l', 'd', 'w', 'q'),\n",
       " ('r', 'k', 'o', 'l', 'w', 'q', 'd'),\n",
       " ('r', 'k', 'o', 'l', 'w', 'd', 'q'),\n",
       " ('r', 'k', 'o', 'w', 'q', 'd', 'l'),\n",
       " ('r', 'k', 'o', 'w', 'q', 'l', 'd'),\n",
       " ('r', 'k', 'o', 'w', 'd', 'q', 'l'),\n",
       " ('r', 'k', 'o', 'w', 'd', 'l', 'q'),\n",
       " ('r', 'k', 'o', 'w', 'l', 'q', 'd'),\n",
       " ('r', 'k', 'o', 'w', 'l', 'd', 'q'),\n",
       " ('r', 'k', 'd', 'q', 'o', 'l', 'w'),\n",
       " ('r', 'k', 'd', 'q', 'o', 'w', 'l'),\n",
       " ('r', 'k', 'd', 'q', 'l', 'o', 'w'),\n",
       " ('r', 'k', 'd', 'q', 'l', 'w', 'o'),\n",
       " ('r', 'k', 'd', 'q', 'w', 'o', 'l'),\n",
       " ('r', 'k', 'd', 'q', 'w', 'l', 'o'),\n",
       " ('r', 'k', 'd', 'o', 'q', 'l', 'w'),\n",
       " ('r', 'k', 'd', 'o', 'q', 'w', 'l'),\n",
       " ('r', 'k', 'd', 'o', 'l', 'q', 'w'),\n",
       " ('r', 'k', 'd', 'o', 'l', 'w', 'q'),\n",
       " ('r', 'k', 'd', 'o', 'w', 'q', 'l'),\n",
       " ('r', 'k', 'd', 'o', 'w', 'l', 'q'),\n",
       " ('r', 'k', 'd', 'l', 'q', 'o', 'w'),\n",
       " ('r', 'k', 'd', 'l', 'q', 'w', 'o'),\n",
       " ('r', 'k', 'd', 'l', 'o', 'q', 'w'),\n",
       " ('r', 'k', 'd', 'l', 'o', 'w', 'q'),\n",
       " ('r', 'k', 'd', 'l', 'w', 'q', 'o'),\n",
       " ('r', 'k', 'd', 'l', 'w', 'o', 'q'),\n",
       " ('r', 'k', 'd', 'w', 'q', 'o', 'l'),\n",
       " ('r', 'k', 'd', 'w', 'q', 'l', 'o'),\n",
       " ('r', 'k', 'd', 'w', 'o', 'q', 'l'),\n",
       " ('r', 'k', 'd', 'w', 'o', 'l', 'q'),\n",
       " ('r', 'k', 'd', 'w', 'l', 'q', 'o'),\n",
       " ('r', 'k', 'd', 'w', 'l', 'o', 'q'),\n",
       " ('r', 'k', 'l', 'q', 'o', 'd', 'w'),\n",
       " ('r', 'k', 'l', 'q', 'o', 'w', 'd'),\n",
       " ('r', 'k', 'l', 'q', 'd', 'o', 'w'),\n",
       " ('r', 'k', 'l', 'q', 'd', 'w', 'o'),\n",
       " ('r', 'k', 'l', 'q', 'w', 'o', 'd'),\n",
       " ('r', 'k', 'l', 'q', 'w', 'd', 'o'),\n",
       " ('r', 'k', 'l', 'o', 'q', 'd', 'w'),\n",
       " ('r', 'k', 'l', 'o', 'q', 'w', 'd'),\n",
       " ('r', 'k', 'l', 'o', 'd', 'q', 'w'),\n",
       " ('r', 'k', 'l', 'o', 'd', 'w', 'q'),\n",
       " ('r', 'k', 'l', 'o', 'w', 'q', 'd'),\n",
       " ('r', 'k', 'l', 'o', 'w', 'd', 'q'),\n",
       " ('r', 'k', 'l', 'd', 'q', 'o', 'w'),\n",
       " ('r', 'k', 'l', 'd', 'q', 'w', 'o'),\n",
       " ('r', 'k', 'l', 'd', 'o', 'q', 'w'),\n",
       " ('r', 'k', 'l', 'd', 'o', 'w', 'q'),\n",
       " ('r', 'k', 'l', 'd', 'w', 'q', 'o'),\n",
       " ('r', 'k', 'l', 'd', 'w', 'o', 'q'),\n",
       " ('r', 'k', 'l', 'w', 'q', 'o', 'd'),\n",
       " ('r', 'k', 'l', 'w', 'q', 'd', 'o'),\n",
       " ('r', 'k', 'l', 'w', 'o', 'q', 'd'),\n",
       " ('r', 'k', 'l', 'w', 'o', 'd', 'q'),\n",
       " ('r', 'k', 'l', 'w', 'd', 'q', 'o'),\n",
       " ('r', 'k', 'l', 'w', 'd', 'o', 'q'),\n",
       " ('r', 'k', 'w', 'q', 'o', 'd', 'l'),\n",
       " ('r', 'k', 'w', 'q', 'o', 'l', 'd'),\n",
       " ('r', 'k', 'w', 'q', 'd', 'o', 'l'),\n",
       " ('r', 'k', 'w', 'q', 'd', 'l', 'o'),\n",
       " ('r', 'k', 'w', 'q', 'l', 'o', 'd'),\n",
       " ('r', 'k', 'w', 'q', 'l', 'd', 'o'),\n",
       " ('r', 'k', 'w', 'o', 'q', 'd', 'l'),\n",
       " ('r', 'k', 'w', 'o', 'q', 'l', 'd'),\n",
       " ('r', 'k', 'w', 'o', 'd', 'q', 'l'),\n",
       " ('r', 'k', 'w', 'o', 'd', 'l', 'q'),\n",
       " ('r', 'k', 'w', 'o', 'l', 'q', 'd'),\n",
       " ('r', 'k', 'w', 'o', 'l', 'd', 'q'),\n",
       " ('r', 'k', 'w', 'd', 'q', 'o', 'l'),\n",
       " ('r', 'k', 'w', 'd', 'q', 'l', 'o'),\n",
       " ('r', 'k', 'w', 'd', 'o', 'q', 'l'),\n",
       " ('r', 'k', 'w', 'd', 'o', 'l', 'q'),\n",
       " ('r', 'k', 'w', 'd', 'l', 'q', 'o'),\n",
       " ('r', 'k', 'w', 'd', 'l', 'o', 'q'),\n",
       " ('r', 'k', 'w', 'l', 'q', 'o', 'd'),\n",
       " ('r', 'k', 'w', 'l', 'q', 'd', 'o'),\n",
       " ('r', 'k', 'w', 'l', 'o', 'q', 'd'),\n",
       " ('r', 'k', 'w', 'l', 'o', 'd', 'q'),\n",
       " ('r', 'k', 'w', 'l', 'd', 'q', 'o'),\n",
       " ('r', 'k', 'w', 'l', 'd', 'o', 'q'),\n",
       " ('r', 'q', 'k', 'o', 'd', 'l', 'w'),\n",
       " ('r', 'q', 'k', 'o', 'd', 'w', 'l'),\n",
       " ('r', 'q', 'k', 'o', 'l', 'd', 'w'),\n",
       " ('r', 'q', 'k', 'o', 'l', 'w', 'd'),\n",
       " ('r', 'q', 'k', 'o', 'w', 'd', 'l'),\n",
       " ('r', 'q', 'k', 'o', 'w', 'l', 'd'),\n",
       " ('r', 'q', 'k', 'd', 'o', 'l', 'w'),\n",
       " ('r', 'q', 'k', 'd', 'o', 'w', 'l'),\n",
       " ('r', 'q', 'k', 'd', 'l', 'o', 'w'),\n",
       " ('r', 'q', 'k', 'd', 'l', 'w', 'o'),\n",
       " ('r', 'q', 'k', 'd', 'w', 'o', 'l'),\n",
       " ('r', 'q', 'k', 'd', 'w', 'l', 'o'),\n",
       " ('r', 'q', 'k', 'l', 'o', 'd', 'w'),\n",
       " ('r', 'q', 'k', 'l', 'o', 'w', 'd'),\n",
       " ('r', 'q', 'k', 'l', 'd', 'o', 'w'),\n",
       " ('r', 'q', 'k', 'l', 'd', 'w', 'o'),\n",
       " ('r', 'q', 'k', 'l', 'w', 'o', 'd'),\n",
       " ('r', 'q', 'k', 'l', 'w', 'd', 'o'),\n",
       " ('r', 'q', 'k', 'w', 'o', 'd', 'l'),\n",
       " ('r', 'q', 'k', 'w', 'o', 'l', 'd'),\n",
       " ('r', 'q', 'k', 'w', 'd', 'o', 'l'),\n",
       " ('r', 'q', 'k', 'w', 'd', 'l', 'o'),\n",
       " ('r', 'q', 'k', 'w', 'l', 'o', 'd'),\n",
       " ('r', 'q', 'k', 'w', 'l', 'd', 'o'),\n",
       " ('r', 'q', 'o', 'k', 'd', 'l', 'w'),\n",
       " ('r', 'q', 'o', 'k', 'd', 'w', 'l'),\n",
       " ('r', 'q', 'o', 'k', 'l', 'd', 'w'),\n",
       " ('r', 'q', 'o', 'k', 'l', 'w', 'd'),\n",
       " ('r', 'q', 'o', 'k', 'w', 'd', 'l'),\n",
       " ('r', 'q', 'o', 'k', 'w', 'l', 'd'),\n",
       " ('r', 'q', 'o', 'd', 'k', 'l', 'w'),\n",
       " ('r', 'q', 'o', 'd', 'k', 'w', 'l'),\n",
       " ('r', 'q', 'o', 'd', 'l', 'k', 'w'),\n",
       " ('r', 'q', 'o', 'd', 'l', 'w', 'k'),\n",
       " ('r', 'q', 'o', 'd', 'w', 'k', 'l'),\n",
       " ('r', 'q', 'o', 'd', 'w', 'l', 'k'),\n",
       " ('r', 'q', 'o', 'l', 'k', 'd', 'w'),\n",
       " ('r', 'q', 'o', 'l', 'k', 'w', 'd'),\n",
       " ('r', 'q', 'o', 'l', 'd', 'k', 'w'),\n",
       " ('r', 'q', 'o', 'l', 'd', 'w', 'k'),\n",
       " ('r', 'q', 'o', 'l', 'w', 'k', 'd'),\n",
       " ('r', 'q', 'o', 'l', 'w', 'd', 'k'),\n",
       " ('r', 'q', 'o', 'w', 'k', 'd', 'l'),\n",
       " ('r', 'q', 'o', 'w', 'k', 'l', 'd'),\n",
       " ('r', 'q', 'o', 'w', 'd', 'k', 'l'),\n",
       " ('r', 'q', 'o', 'w', 'd', 'l', 'k'),\n",
       " ('r', 'q', 'o', 'w', 'l', 'k', 'd'),\n",
       " ('r', 'q', 'o', 'w', 'l', 'd', 'k'),\n",
       " ('r', 'q', 'd', 'k', 'o', 'l', 'w'),\n",
       " ('r', 'q', 'd', 'k', 'o', 'w', 'l'),\n",
       " ('r', 'q', 'd', 'k', 'l', 'o', 'w'),\n",
       " ('r', 'q', 'd', 'k', 'l', 'w', 'o'),\n",
       " ('r', 'q', 'd', 'k', 'w', 'o', 'l'),\n",
       " ('r', 'q', 'd', 'k', 'w', 'l', 'o'),\n",
       " ('r', 'q', 'd', 'o', 'k', 'l', 'w'),\n",
       " ('r', 'q', 'd', 'o', 'k', 'w', 'l'),\n",
       " ('r', 'q', 'd', 'o', 'l', 'k', 'w'),\n",
       " ('r', 'q', 'd', 'o', 'l', 'w', 'k'),\n",
       " ('r', 'q', 'd', 'o', 'w', 'k', 'l'),\n",
       " ('r', 'q', 'd', 'o', 'w', 'l', 'k'),\n",
       " ('r', 'q', 'd', 'l', 'k', 'o', 'w'),\n",
       " ('r', 'q', 'd', 'l', 'k', 'w', 'o'),\n",
       " ('r', 'q', 'd', 'l', 'o', 'k', 'w'),\n",
       " ('r', 'q', 'd', 'l', 'o', 'w', 'k'),\n",
       " ('r', 'q', 'd', 'l', 'w', 'k', 'o'),\n",
       " ('r', 'q', 'd', 'l', 'w', 'o', 'k'),\n",
       " ('r', 'q', 'd', 'w', 'k', 'o', 'l'),\n",
       " ('r', 'q', 'd', 'w', 'k', 'l', 'o'),\n",
       " ('r', 'q', 'd', 'w', 'o', 'k', 'l'),\n",
       " ('r', 'q', 'd', 'w', 'o', 'l', 'k'),\n",
       " ('r', 'q', 'd', 'w', 'l', 'k', 'o'),\n",
       " ('r', 'q', 'd', 'w', 'l', 'o', 'k'),\n",
       " ('r', 'q', 'l', 'k', 'o', 'd', 'w'),\n",
       " ('r', 'q', 'l', 'k', 'o', 'w', 'd'),\n",
       " ('r', 'q', 'l', 'k', 'd', 'o', 'w'),\n",
       " ('r', 'q', 'l', 'k', 'd', 'w', 'o'),\n",
       " ('r', 'q', 'l', 'k', 'w', 'o', 'd'),\n",
       " ('r', 'q', 'l', 'k', 'w', 'd', 'o'),\n",
       " ('r', 'q', 'l', 'o', 'k', 'd', 'w'),\n",
       " ('r', 'q', 'l', 'o', 'k', 'w', 'd'),\n",
       " ('r', 'q', 'l', 'o', 'd', 'k', 'w'),\n",
       " ('r', 'q', 'l', 'o', 'd', 'w', 'k'),\n",
       " ('r', 'q', 'l', 'o', 'w', 'k', 'd'),\n",
       " ('r', 'q', 'l', 'o', 'w', 'd', 'k'),\n",
       " ('r', 'q', 'l', 'd', 'k', 'o', 'w'),\n",
       " ('r', 'q', 'l', 'd', 'k', 'w', 'o'),\n",
       " ('r', 'q', 'l', 'd', 'o', 'k', 'w'),\n",
       " ('r', 'q', 'l', 'd', 'o', 'w', 'k'),\n",
       " ('r', 'q', 'l', 'd', 'w', 'k', 'o'),\n",
       " ('r', 'q', 'l', 'd', 'w', 'o', 'k'),\n",
       " ('r', 'q', 'l', 'w', 'k', 'o', 'd'),\n",
       " ('r', 'q', 'l', 'w', 'k', 'd', 'o'),\n",
       " ('r', 'q', 'l', 'w', 'o', 'k', 'd'),\n",
       " ('r', 'q', 'l', 'w', 'o', 'd', 'k'),\n",
       " ('r', 'q', 'l', 'w', 'd', 'k', 'o'),\n",
       " ('r', 'q', 'l', 'w', 'd', 'o', 'k'),\n",
       " ('r', 'q', 'w', 'k', 'o', 'd', 'l'),\n",
       " ('r', 'q', 'w', 'k', 'o', 'l', 'd'),\n",
       " ('r', 'q', 'w', 'k', 'd', 'o', 'l'),\n",
       " ('r', 'q', 'w', 'k', 'd', 'l', 'o'),\n",
       " ('r', 'q', 'w', 'k', 'l', 'o', 'd'),\n",
       " ('r', 'q', 'w', 'k', 'l', 'd', 'o'),\n",
       " ('r', 'q', 'w', 'o', 'k', 'd', 'l'),\n",
       " ('r', 'q', 'w', 'o', 'k', 'l', 'd'),\n",
       " ('r', 'q', 'w', 'o', 'd', 'k', 'l'),\n",
       " ('r', 'q', 'w', 'o', 'd', 'l', 'k'),\n",
       " ('r', 'q', 'w', 'o', 'l', 'k', 'd'),\n",
       " ('r', 'q', 'w', 'o', 'l', 'd', 'k'),\n",
       " ('r', 'q', 'w', 'd', 'k', 'o', 'l'),\n",
       " ('r', 'q', 'w', 'd', 'k', 'l', 'o'),\n",
       " ('r', 'q', 'w', 'd', 'o', 'k', 'l'),\n",
       " ('r', 'q', 'w', 'd', 'o', 'l', 'k'),\n",
       " ('r', 'q', 'w', 'd', 'l', 'k', 'o'),\n",
       " ('r', 'q', 'w', 'd', 'l', 'o', 'k'),\n",
       " ('r', 'q', 'w', 'l', 'k', 'o', 'd'),\n",
       " ('r', 'q', 'w', 'l', 'k', 'd', 'o'),\n",
       " ('r', 'q', 'w', 'l', 'o', 'k', 'd'),\n",
       " ('r', 'q', 'w', 'l', 'o', 'd', 'k'),\n",
       " ('r', 'q', 'w', 'l', 'd', 'k', 'o'),\n",
       " ('r', 'q', 'w', 'l', 'd', 'o', 'k'),\n",
       " ('r', 'o', 'k', 'q', 'd', 'l', 'w'),\n",
       " ('r', 'o', 'k', 'q', 'd', 'w', 'l'),\n",
       " ('r', 'o', 'k', 'q', 'l', 'd', 'w'),\n",
       " ('r', 'o', 'k', 'q', 'l', 'w', 'd'),\n",
       " ('r', 'o', 'k', 'q', 'w', 'd', 'l'),\n",
       " ('r', 'o', 'k', 'q', 'w', 'l', 'd'),\n",
       " ('r', 'o', 'k', 'd', 'q', 'l', 'w'),\n",
       " ('r', 'o', 'k', 'd', 'q', 'w', 'l'),\n",
       " ('r', 'o', 'k', 'd', 'l', 'q', 'w'),\n",
       " ('r', 'o', 'k', 'd', 'l', 'w', 'q'),\n",
       " ('r', 'o', 'k', 'd', 'w', 'q', 'l'),\n",
       " ('r', 'o', 'k', 'd', 'w', 'l', 'q'),\n",
       " ('r', 'o', 'k', 'l', 'q', 'd', 'w'),\n",
       " ('r', 'o', 'k', 'l', 'q', 'w', 'd'),\n",
       " ('r', 'o', 'k', 'l', 'd', 'q', 'w'),\n",
       " ('r', 'o', 'k', 'l', 'd', 'w', 'q'),\n",
       " ('r', 'o', 'k', 'l', 'w', 'q', 'd'),\n",
       " ('r', 'o', 'k', 'l', 'w', 'd', 'q'),\n",
       " ('r', 'o', 'k', 'w', 'q', 'd', 'l'),\n",
       " ('r', 'o', 'k', 'w', 'q', 'l', 'd'),\n",
       " ('r', 'o', 'k', 'w', 'd', 'q', 'l'),\n",
       " ('r', 'o', 'k', 'w', 'd', 'l', 'q'),\n",
       " ('r', 'o', 'k', 'w', 'l', 'q', 'd'),\n",
       " ('r', 'o', 'k', 'w', 'l', 'd', 'q'),\n",
       " ('r', 'o', 'q', 'k', 'd', 'l', 'w'),\n",
       " ('r', 'o', 'q', 'k', 'd', 'w', 'l'),\n",
       " ('r', 'o', 'q', 'k', 'l', 'd', 'w'),\n",
       " ('r', 'o', 'q', 'k', 'l', 'w', 'd'),\n",
       " ('r', 'o', 'q', 'k', 'w', 'd', 'l'),\n",
       " ('r', 'o', 'q', 'k', 'w', 'l', 'd'),\n",
       " ('r', 'o', 'q', 'd', 'k', 'l', 'w'),\n",
       " ('r', 'o', 'q', 'd', 'k', 'w', 'l'),\n",
       " ('r', 'o', 'q', 'd', 'l', 'k', 'w'),\n",
       " ('r', 'o', 'q', 'd', 'l', 'w', 'k'),\n",
       " ('r', 'o', 'q', 'd', 'w', 'k', 'l'),\n",
       " ('r', 'o', 'q', 'd', 'w', 'l', 'k'),\n",
       " ('r', 'o', 'q', 'l', 'k', 'd', 'w'),\n",
       " ('r', 'o', 'q', 'l', 'k', 'w', 'd'),\n",
       " ('r', 'o', 'q', 'l', 'd', 'k', 'w'),\n",
       " ('r', 'o', 'q', 'l', 'd', 'w', 'k'),\n",
       " ('r', 'o', 'q', 'l', 'w', 'k', 'd'),\n",
       " ('r', 'o', 'q', 'l', 'w', 'd', 'k'),\n",
       " ('r', 'o', 'q', 'w', 'k', 'd', 'l'),\n",
       " ('r', 'o', 'q', 'w', 'k', 'l', 'd'),\n",
       " ('r', 'o', 'q', 'w', 'd', 'k', 'l'),\n",
       " ('r', 'o', 'q', 'w', 'd', 'l', 'k'),\n",
       " ('r', 'o', 'q', 'w', 'l', 'k', 'd'),\n",
       " ('r', 'o', 'q', 'w', 'l', 'd', 'k'),\n",
       " ('r', 'o', 'd', 'k', 'q', 'l', 'w'),\n",
       " ('r', 'o', 'd', 'k', 'q', 'w', 'l'),\n",
       " ('r', 'o', 'd', 'k', 'l', 'q', 'w'),\n",
       " ('r', 'o', 'd', 'k', 'l', 'w', 'q'),\n",
       " ('r', 'o', 'd', 'k', 'w', 'q', 'l'),\n",
       " ('r', 'o', 'd', 'k', 'w', 'l', 'q'),\n",
       " ('r', 'o', 'd', 'q', 'k', 'l', 'w'),\n",
       " ('r', 'o', 'd', 'q', 'k', 'w', 'l'),\n",
       " ('r', 'o', 'd', 'q', 'l', 'k', 'w'),\n",
       " ('r', 'o', 'd', 'q', 'l', 'w', 'k'),\n",
       " ('r', 'o', 'd', 'q', 'w', 'k', 'l'),\n",
       " ('r', 'o', 'd', 'q', 'w', 'l', 'k'),\n",
       " ('r', 'o', 'd', 'l', 'k', 'q', 'w'),\n",
       " ('r', 'o', 'd', 'l', 'k', 'w', 'q'),\n",
       " ('r', 'o', 'd', 'l', 'q', 'k', 'w'),\n",
       " ('r', 'o', 'd', 'l', 'q', 'w', 'k'),\n",
       " ('r', 'o', 'd', 'l', 'w', 'k', 'q'),\n",
       " ('r', 'o', 'd', 'l', 'w', 'q', 'k'),\n",
       " ('r', 'o', 'd', 'w', 'k', 'q', 'l'),\n",
       " ('r', 'o', 'd', 'w', 'k', 'l', 'q'),\n",
       " ('r', 'o', 'd', 'w', 'q', 'k', 'l'),\n",
       " ('r', 'o', 'd', 'w', 'q', 'l', 'k'),\n",
       " ('r', 'o', 'd', 'w', 'l', 'k', 'q'),\n",
       " ('r', 'o', 'd', 'w', 'l', 'q', 'k'),\n",
       " ('r', 'o', 'l', 'k', 'q', 'd', 'w'),\n",
       " ('r', 'o', 'l', 'k', 'q', 'w', 'd'),\n",
       " ('r', 'o', 'l', 'k', 'd', 'q', 'w'),\n",
       " ('r', 'o', 'l', 'k', 'd', 'w', 'q'),\n",
       " ('r', 'o', 'l', 'k', 'w', 'q', 'd'),\n",
       " ('r', 'o', 'l', 'k', 'w', 'd', 'q'),\n",
       " ('r', 'o', 'l', 'q', 'k', 'd', 'w'),\n",
       " ('r', 'o', 'l', 'q', 'k', 'w', 'd'),\n",
       " ('r', 'o', 'l', 'q', 'd', 'k', 'w'),\n",
       " ('r', 'o', 'l', 'q', 'd', 'w', 'k'),\n",
       " ('r', 'o', 'l', 'q', 'w', 'k', 'd'),\n",
       " ('r', 'o', 'l', 'q', 'w', 'd', 'k'),\n",
       " ('r', 'o', 'l', 'd', 'k', 'q', 'w'),\n",
       " ('r', 'o', 'l', 'd', 'k', 'w', 'q'),\n",
       " ('r', 'o', 'l', 'd', 'q', 'k', 'w'),\n",
       " ('r', 'o', 'l', 'd', 'q', 'w', 'k'),\n",
       " ('r', 'o', 'l', 'd', 'w', 'k', 'q'),\n",
       " ('r', 'o', 'l', 'd', 'w', 'q', 'k'),\n",
       " ('r', 'o', 'l', 'w', 'k', 'q', 'd'),\n",
       " ('r', 'o', 'l', 'w', 'k', 'd', 'q'),\n",
       " ('r', 'o', 'l', 'w', 'q', 'k', 'd'),\n",
       " ('r', 'o', 'l', 'w', 'q', 'd', 'k'),\n",
       " ('r', 'o', 'l', 'w', 'd', 'k', 'q'),\n",
       " ('r', 'o', 'l', 'w', 'd', 'q', 'k'),\n",
       " ('r', 'o', 'w', 'k', 'q', 'd', 'l'),\n",
       " ('r', 'o', 'w', 'k', 'q', 'l', 'd'),\n",
       " ('r', 'o', 'w', 'k', 'd', 'q', 'l'),\n",
       " ('r', 'o', 'w', 'k', 'd', 'l', 'q'),\n",
       " ('r', 'o', 'w', 'k', 'l', 'q', 'd'),\n",
       " ('r', 'o', 'w', 'k', 'l', 'd', 'q'),\n",
       " ('r', 'o', 'w', 'q', 'k', 'd', 'l'),\n",
       " ('r', 'o', 'w', 'q', 'k', 'l', 'd'),\n",
       " ('r', 'o', 'w', 'q', 'd', 'k', 'l'),\n",
       " ('r', 'o', 'w', 'q', 'd', 'l', 'k'),\n",
       " ('r', 'o', 'w', 'q', 'l', 'k', 'd'),\n",
       " ('r', 'o', 'w', 'q', 'l', 'd', 'k'),\n",
       " ('r', 'o', 'w', 'd', 'k', 'q', 'l'),\n",
       " ('r', 'o', 'w', 'd', 'k', 'l', 'q'),\n",
       " ('r', 'o', 'w', 'd', 'q', 'k', 'l'),\n",
       " ('r', 'o', 'w', 'd', 'q', 'l', 'k'),\n",
       " ('r', 'o', 'w', 'd', 'l', 'k', 'q'),\n",
       " ('r', 'o', 'w', 'd', 'l', 'q', 'k'),\n",
       " ('r', 'o', 'w', 'l', 'k', 'q', 'd'),\n",
       " ('r', 'o', 'w', 'l', 'k', 'd', 'q'),\n",
       " ('r', 'o', 'w', 'l', 'q', 'k', 'd'),\n",
       " ('r', 'o', 'w', 'l', 'q', 'd', 'k'),\n",
       " ('r', 'o', 'w', 'l', 'd', 'k', 'q'),\n",
       " ('r', 'o', 'w', 'l', 'd', 'q', 'k'),\n",
       " ('r', 'd', 'k', 'q', 'o', 'l', 'w'),\n",
       " ('r', 'd', 'k', 'q', 'o', 'w', 'l'),\n",
       " ('r', 'd', 'k', 'q', 'l', 'o', 'w'),\n",
       " ('r', 'd', 'k', 'q', 'l', 'w', 'o'),\n",
       " ('r', 'd', 'k', 'q', 'w', 'o', 'l'),\n",
       " ('r', 'd', 'k', 'q', 'w', 'l', 'o'),\n",
       " ('r', 'd', 'k', 'o', 'q', 'l', 'w'),\n",
       " ('r', 'd', 'k', 'o', 'q', 'w', 'l'),\n",
       " ('r', 'd', 'k', 'o', 'l', 'q', 'w'),\n",
       " ('r', 'd', 'k', 'o', 'l', 'w', 'q'),\n",
       " ('r', 'd', 'k', 'o', 'w', 'q', 'l'),\n",
       " ('r', 'd', 'k', 'o', 'w', 'l', 'q'),\n",
       " ('r', 'd', 'k', 'l', 'q', 'o', 'w'),\n",
       " ('r', 'd', 'k', 'l', 'q', 'w', 'o'),\n",
       " ('r', 'd', 'k', 'l', 'o', 'q', 'w'),\n",
       " ('r', 'd', 'k', 'l', 'o', 'w', 'q'),\n",
       " ('r', 'd', 'k', 'l', 'w', 'q', 'o'),\n",
       " ('r', 'd', 'k', 'l', 'w', 'o', 'q'),\n",
       " ('r', 'd', 'k', 'w', 'q', 'o', 'l'),\n",
       " ('r', 'd', 'k', 'w', 'q', 'l', 'o'),\n",
       " ('r', 'd', 'k', 'w', 'o', 'q', 'l'),\n",
       " ('r', 'd', 'k', 'w', 'o', 'l', 'q'),\n",
       " ('r', 'd', 'k', 'w', 'l', 'q', 'o'),\n",
       " ('r', 'd', 'k', 'w', 'l', 'o', 'q'),\n",
       " ('r', 'd', 'q', 'k', 'o', 'l', 'w'),\n",
       " ('r', 'd', 'q', 'k', 'o', 'w', 'l'),\n",
       " ('r', 'd', 'q', 'k', 'l', 'o', 'w'),\n",
       " ('r', 'd', 'q', 'k', 'l', 'w', 'o'),\n",
       " ('r', 'd', 'q', 'k', 'w', 'o', 'l'),\n",
       " ('r', 'd', 'q', 'k', 'w', 'l', 'o'),\n",
       " ('r', 'd', 'q', 'o', 'k', 'l', 'w'),\n",
       " ('r', 'd', 'q', 'o', 'k', 'w', 'l'),\n",
       " ('r', 'd', 'q', 'o', 'l', 'k', 'w'),\n",
       " ('r', 'd', 'q', 'o', 'l', 'w', 'k'),\n",
       " ('r', 'd', 'q', 'o', 'w', 'k', 'l'),\n",
       " ('r', 'd', 'q', 'o', 'w', 'l', 'k'),\n",
       " ('r', 'd', 'q', 'l', 'k', 'o', 'w'),\n",
       " ('r', 'd', 'q', 'l', 'k', 'w', 'o'),\n",
       " ('r', 'd', 'q', 'l', 'o', 'k', 'w'),\n",
       " ('r', 'd', 'q', 'l', 'o', 'w', 'k'),\n",
       " ('r', 'd', 'q', 'l', 'w', 'k', 'o'),\n",
       " ('r', 'd', 'q', 'l', 'w', 'o', 'k'),\n",
       " ('r', 'd', 'q', 'w', 'k', 'o', 'l'),\n",
       " ('r', 'd', 'q', 'w', 'k', 'l', 'o'),\n",
       " ('r', 'd', 'q', 'w', 'o', 'k', 'l'),\n",
       " ('r', 'd', 'q', 'w', 'o', 'l', 'k'),\n",
       " ('r', 'd', 'q', 'w', 'l', 'k', 'o'),\n",
       " ('r', 'd', 'q', 'w', 'l', 'o', 'k'),\n",
       " ('r', 'd', 'o', 'k', 'q', 'l', 'w'),\n",
       " ('r', 'd', 'o', 'k', 'q', 'w', 'l'),\n",
       " ('r', 'd', 'o', 'k', 'l', 'q', 'w'),\n",
       " ('r', 'd', 'o', 'k', 'l', 'w', 'q'),\n",
       " ('r', 'd', 'o', 'k', 'w', 'q', 'l'),\n",
       " ('r', 'd', 'o', 'k', 'w', 'l', 'q'),\n",
       " ('r', 'd', 'o', 'q', 'k', 'l', 'w'),\n",
       " ('r', 'd', 'o', 'q', 'k', 'w', 'l'),\n",
       " ('r', 'd', 'o', 'q', 'l', 'k', 'w'),\n",
       " ('r', 'd', 'o', 'q', 'l', 'w', 'k'),\n",
       " ('r', 'd', 'o', 'q', 'w', 'k', 'l'),\n",
       " ('r', 'd', 'o', 'q', 'w', 'l', 'k'),\n",
       " ('r', 'd', 'o', 'l', 'k', 'q', 'w'),\n",
       " ('r', 'd', 'o', 'l', 'k', 'w', 'q'),\n",
       " ('r', 'd', 'o', 'l', 'q', 'k', 'w'),\n",
       " ('r', 'd', 'o', 'l', 'q', 'w', 'k'),\n",
       " ('r', 'd', 'o', 'l', 'w', 'k', 'q'),\n",
       " ('r', 'd', 'o', 'l', 'w', 'q', 'k'),\n",
       " ('r', 'd', 'o', 'w', 'k', 'q', 'l'),\n",
       " ('r', 'd', 'o', 'w', 'k', 'l', 'q'),\n",
       " ('r', 'd', 'o', 'w', 'q', 'k', 'l'),\n",
       " ('r', 'd', 'o', 'w', 'q', 'l', 'k'),\n",
       " ('r', 'd', 'o', 'w', 'l', 'k', 'q'),\n",
       " ('r', 'd', 'o', 'w', 'l', 'q', 'k'),\n",
       " ('r', 'd', 'l', 'k', 'q', 'o', 'w'),\n",
       " ('r', 'd', 'l', 'k', 'q', 'w', 'o'),\n",
       " ('r', 'd', 'l', 'k', 'o', 'q', 'w'),\n",
       " ('r', 'd', 'l', 'k', 'o', 'w', 'q'),\n",
       " ('r', 'd', 'l', 'k', 'w', 'q', 'o'),\n",
       " ('r', 'd', 'l', 'k', 'w', 'o', 'q'),\n",
       " ('r', 'd', 'l', 'q', 'k', 'o', 'w'),\n",
       " ('r', 'd', 'l', 'q', 'k', 'w', 'o'),\n",
       " ('r', 'd', 'l', 'q', 'o', 'k', 'w'),\n",
       " ('r', 'd', 'l', 'q', 'o', 'w', 'k'),\n",
       " ('r', 'd', 'l', 'q', 'w', 'k', 'o'),\n",
       " ('r', 'd', 'l', 'q', 'w', 'o', 'k'),\n",
       " ('r', 'd', 'l', 'o', 'k', 'q', 'w'),\n",
       " ('r', 'd', 'l', 'o', 'k', 'w', 'q'),\n",
       " ('r', 'd', 'l', 'o', 'q', 'k', 'w'),\n",
       " ('r', 'd', 'l', 'o', 'q', 'w', 'k'),\n",
       " ('r', 'd', 'l', 'o', 'w', 'k', 'q'),\n",
       " ('r', 'd', 'l', 'o', 'w', 'q', 'k'),\n",
       " ('r', 'd', 'l', 'w', 'k', 'q', 'o'),\n",
       " ('r', 'd', 'l', 'w', 'k', 'o', 'q'),\n",
       " ('r', 'd', 'l', 'w', 'q', 'k', 'o'),\n",
       " ('r', 'd', 'l', 'w', 'q', 'o', 'k'),\n",
       " ('r', 'd', 'l', 'w', 'o', 'k', 'q'),\n",
       " ('r', 'd', 'l', 'w', 'o', 'q', 'k'),\n",
       " ('r', 'd', 'w', 'k', 'q', 'o', 'l'),\n",
       " ('r', 'd', 'w', 'k', 'q', 'l', 'o'),\n",
       " ('r', 'd', 'w', 'k', 'o', 'q', 'l'),\n",
       " ('r', 'd', 'w', 'k', 'o', 'l', 'q'),\n",
       " ('r', 'd', 'w', 'k', 'l', 'q', 'o'),\n",
       " ('r', 'd', 'w', 'k', 'l', 'o', 'q'),\n",
       " ('r', 'd', 'w', 'q', 'k', 'o', 'l'),\n",
       " ('r', 'd', 'w', 'q', 'k', 'l', 'o'),\n",
       " ('r', 'd', 'w', 'q', 'o', 'k', 'l'),\n",
       " ('r', 'd', 'w', 'q', 'o', 'l', 'k'),\n",
       " ('r', 'd', 'w', 'q', 'l', 'k', 'o'),\n",
       " ('r', 'd', 'w', 'q', 'l', 'o', 'k'),\n",
       " ('r', 'd', 'w', 'o', 'k', 'q', 'l'),\n",
       " ('r', 'd', 'w', 'o', 'k', 'l', 'q'),\n",
       " ('r', 'd', 'w', 'o', 'q', 'k', 'l'),\n",
       " ('r', 'd', 'w', 'o', 'q', 'l', 'k'),\n",
       " ('r', 'd', 'w', 'o', 'l', 'k', 'q'),\n",
       " ('r', 'd', 'w', 'o', 'l', 'q', 'k'),\n",
       " ('r', 'd', 'w', 'l', 'k', 'q', 'o'),\n",
       " ('r', 'd', 'w', 'l', 'k', 'o', 'q'),\n",
       " ('r', 'd', 'w', 'l', 'q', 'k', 'o'),\n",
       " ('r', 'd', 'w', 'l', 'q', 'o', 'k'),\n",
       " ('r', 'd', 'w', 'l', 'o', 'k', 'q'),\n",
       " ('r', 'd', 'w', 'l', 'o', 'q', 'k'),\n",
       " ('r', 'l', 'k', 'q', 'o', 'd', 'w'),\n",
       " ('r', 'l', 'k', 'q', 'o', 'w', 'd'),\n",
       " ('r', 'l', 'k', 'q', 'd', 'o', 'w'),\n",
       " ('r', 'l', 'k', 'q', 'd', 'w', 'o'),\n",
       " ('r', 'l', 'k', 'q', 'w', 'o', 'd'),\n",
       " ('r', 'l', 'k', 'q', 'w', 'd', 'o'),\n",
       " ('r', 'l', 'k', 'o', 'q', 'd', 'w'),\n",
       " ('r', 'l', 'k', 'o', 'q', 'w', 'd'),\n",
       " ('r', 'l', 'k', 'o', 'd', 'q', 'w'),\n",
       " ('r', 'l', 'k', 'o', 'd', 'w', 'q'),\n",
       " ('r', 'l', 'k', 'o', 'w', 'q', 'd'),\n",
       " ('r', 'l', 'k', 'o', 'w', 'd', 'q'),\n",
       " ('r', 'l', 'k', 'd', 'q', 'o', 'w'),\n",
       " ('r', 'l', 'k', 'd', 'q', 'w', 'o'),\n",
       " ('r', 'l', 'k', 'd', 'o', 'q', 'w'),\n",
       " ('r', 'l', 'k', 'd', 'o', 'w', 'q'),\n",
       " ('r', 'l', 'k', 'd', 'w', 'q', 'o'),\n",
       " ('r', 'l', 'k', 'd', 'w', 'o', 'q'),\n",
       " ('r', 'l', 'k', 'w', 'q', 'o', 'd'),\n",
       " ('r', 'l', 'k', 'w', 'q', 'd', 'o'),\n",
       " ('r', 'l', 'k', 'w', 'o', 'q', 'd'),\n",
       " ('r', 'l', 'k', 'w', 'o', 'd', 'q'),\n",
       " ('r', 'l', 'k', 'w', 'd', 'q', 'o'),\n",
       " ('r', 'l', 'k', 'w', 'd', 'o', 'q'),\n",
       " ('r', 'l', 'q', 'k', 'o', 'd', 'w'),\n",
       " ('r', 'l', 'q', 'k', 'o', 'w', 'd'),\n",
       " ('r', 'l', 'q', 'k', 'd', 'o', 'w'),\n",
       " ('r', 'l', 'q', 'k', 'd', 'w', 'o'),\n",
       " ('r', 'l', 'q', 'k', 'w', 'o', 'd'),\n",
       " ('r', 'l', 'q', 'k', 'w', 'd', 'o'),\n",
       " ('r', 'l', 'q', 'o', 'k', 'd', 'w'),\n",
       " ('r', 'l', 'q', 'o', 'k', 'w', 'd'),\n",
       " ('r', 'l', 'q', 'o', 'd', 'k', 'w'),\n",
       " ('r', 'l', 'q', 'o', 'd', 'w', 'k'),\n",
       " ('r', 'l', 'q', 'o', 'w', 'k', 'd'),\n",
       " ('r', 'l', 'q', 'o', 'w', 'd', 'k'),\n",
       " ('r', 'l', 'q', 'd', 'k', 'o', 'w'),\n",
       " ('r', 'l', 'q', 'd', 'k', 'w', 'o'),\n",
       " ('r', 'l', 'q', 'd', 'o', 'k', 'w'),\n",
       " ('r', 'l', 'q', 'd', 'o', 'w', 'k'),\n",
       " ('r', 'l', 'q', 'd', 'w', 'k', 'o'),\n",
       " ('r', 'l', 'q', 'd', 'w', 'o', 'k'),\n",
       " ('r', 'l', 'q', 'w', 'k', 'o', 'd'),\n",
       " ('r', 'l', 'q', 'w', 'k', 'd', 'o'),\n",
       " ('r', 'l', 'q', 'w', 'o', 'k', 'd'),\n",
       " ('r', 'l', 'q', 'w', 'o', 'd', 'k'),\n",
       " ('r', 'l', 'q', 'w', 'd', 'k', 'o'),\n",
       " ('r', 'l', 'q', 'w', 'd', 'o', 'k'),\n",
       " ('r', 'l', 'o', 'k', 'q', 'd', 'w'),\n",
       " ('r', 'l', 'o', 'k', 'q', 'w', 'd'),\n",
       " ('r', 'l', 'o', 'k', 'd', 'q', 'w'),\n",
       " ('r', 'l', 'o', 'k', 'd', 'w', 'q'),\n",
       " ('r', 'l', 'o', 'k', 'w', 'q', 'd'),\n",
       " ('r', 'l', 'o', 'k', 'w', 'd', 'q'),\n",
       " ('r', 'l', 'o', 'q', 'k', 'd', 'w'),\n",
       " ('r', 'l', 'o', 'q', 'k', 'w', 'd'),\n",
       " ('r', 'l', 'o', 'q', 'd', 'k', 'w'),\n",
       " ('r', 'l', 'o', 'q', 'd', 'w', 'k'),\n",
       " ('r', 'l', 'o', 'q', 'w', 'k', 'd'),\n",
       " ('r', 'l', 'o', 'q', 'w', 'd', 'k'),\n",
       " ('r', 'l', 'o', 'd', 'k', 'q', 'w'),\n",
       " ('r', 'l', 'o', 'd', 'k', 'w', 'q'),\n",
       " ('r', 'l', 'o', 'd', 'q', 'k', 'w'),\n",
       " ('r', 'l', 'o', 'd', 'q', 'w', 'k'),\n",
       " ('r', 'l', 'o', 'd', 'w', 'k', 'q'),\n",
       " ('r', 'l', 'o', 'd', 'w', 'q', 'k'),\n",
       " ('r', 'l', 'o', 'w', 'k', 'q', 'd'),\n",
       " ('r', 'l', 'o', 'w', 'k', 'd', 'q'),\n",
       " ('r', 'l', 'o', 'w', 'q', 'k', 'd'),\n",
       " ('r', 'l', 'o', 'w', 'q', 'd', 'k'),\n",
       " ('r', 'l', 'o', 'w', 'd', 'k', 'q'),\n",
       " ('r', 'l', 'o', 'w', 'd', 'q', 'k'),\n",
       " ('r', 'l', 'd', 'k', 'q', 'o', 'w'),\n",
       " ('r', 'l', 'd', 'k', 'q', 'w', 'o'),\n",
       " ('r', 'l', 'd', 'k', 'o', 'q', 'w'),\n",
       " ('r', 'l', 'd', 'k', 'o', 'w', 'q'),\n",
       " ('r', 'l', 'd', 'k', 'w', 'q', 'o'),\n",
       " ('r', 'l', 'd', 'k', 'w', 'o', 'q'),\n",
       " ('r', 'l', 'd', 'q', 'k', 'o', 'w'),\n",
       " ('r', 'l', 'd', 'q', 'k', 'w', 'o'),\n",
       " ('r', 'l', 'd', 'q', 'o', 'k', 'w'),\n",
       " ('r', 'l', 'd', 'q', 'o', 'w', 'k'),\n",
       " ('r', 'l', 'd', 'q', 'w', 'k', 'o'),\n",
       " ('r', 'l', 'd', 'q', 'w', 'o', 'k'),\n",
       " ('r', 'l', 'd', 'o', 'k', 'q', 'w'),\n",
       " ('r', 'l', 'd', 'o', 'k', 'w', 'q'),\n",
       " ('r', 'l', 'd', 'o', 'q', 'k', 'w'),\n",
       " ('r', 'l', 'd', 'o', 'q', 'w', 'k'),\n",
       " ('r', 'l', 'd', 'o', 'w', 'k', 'q'),\n",
       " ('r', 'l', 'd', 'o', 'w', 'q', 'k'),\n",
       " ('r', 'l', 'd', 'w', 'k', 'q', 'o'),\n",
       " ('r', 'l', 'd', 'w', 'k', 'o', 'q'),\n",
       " ('r', 'l', 'd', 'w', 'q', 'k', 'o'),\n",
       " ('r', 'l', 'd', 'w', 'q', 'o', 'k'),\n",
       " ('r', 'l', 'd', 'w', 'o', 'k', 'q'),\n",
       " ('r', 'l', 'd', 'w', 'o', 'q', 'k'),\n",
       " ('r', 'l', 'w', 'k', 'q', 'o', 'd'),\n",
       " ('r', 'l', 'w', 'k', 'q', 'd', 'o'),\n",
       " ('r', 'l', 'w', 'k', 'o', 'q', 'd'),\n",
       " ('r', 'l', 'w', 'k', 'o', 'd', 'q'),\n",
       " ('r', 'l', 'w', 'k', 'd', 'q', 'o'),\n",
       " ('r', 'l', 'w', 'k', 'd', 'o', 'q'),\n",
       " ('r', 'l', 'w', 'q', 'k', 'o', 'd'),\n",
       " ('r', 'l', 'w', 'q', 'k', 'd', 'o'),\n",
       " ('r', 'l', 'w', 'q', 'o', 'k', 'd'),\n",
       " ('r', 'l', 'w', 'q', 'o', 'd', 'k'),\n",
       " ('r', 'l', 'w', 'q', 'd', 'k', 'o'),\n",
       " ('r', 'l', 'w', 'q', 'd', 'o', 'k'),\n",
       " ('r', 'l', 'w', 'o', 'k', 'q', 'd'),\n",
       " ('r', 'l', 'w', 'o', 'k', 'd', 'q'),\n",
       " ('r', 'l', 'w', 'o', 'q', 'k', 'd'),\n",
       " ('r', 'l', 'w', 'o', 'q', 'd', 'k'),\n",
       " ('r', 'l', 'w', 'o', 'd', 'k', 'q'),\n",
       " ('r', 'l', 'w', 'o', 'd', 'q', 'k'),\n",
       " ('r', 'l', 'w', 'd', 'k', 'q', 'o'),\n",
       " ('r', 'l', 'w', 'd', 'k', 'o', 'q'),\n",
       " ('r', 'l', 'w', 'd', 'q', 'k', 'o'),\n",
       " ('r', 'l', 'w', 'd', 'q', 'o', 'k'),\n",
       " ('r', 'l', 'w', 'd', 'o', 'k', 'q'),\n",
       " ('r', 'l', 'w', 'd', 'o', 'q', 'k'),\n",
       " ('r', 'w', 'k', 'q', 'o', 'd', 'l'),\n",
       " ('r', 'w', 'k', 'q', 'o', 'l', 'd'),\n",
       " ('r', 'w', 'k', 'q', 'd', 'o', 'l'),\n",
       " ('r', 'w', 'k', 'q', 'd', 'l', 'o'),\n",
       " ('r', 'w', 'k', 'q', 'l', 'o', 'd'),\n",
       " ('r', 'w', 'k', 'q', 'l', 'd', 'o'),\n",
       " ('r', 'w', 'k', 'o', 'q', 'd', 'l'),\n",
       " ('r', 'w', 'k', 'o', 'q', 'l', 'd'),\n",
       " ('r', 'w', 'k', 'o', 'd', 'q', 'l'),\n",
       " ('r', 'w', 'k', 'o', 'd', 'l', 'q'),\n",
       " ('r', 'w', 'k', 'o', 'l', 'q', 'd'),\n",
       " ('r', 'w', 'k', 'o', 'l', 'd', 'q'),\n",
       " ('r', 'w', 'k', 'd', 'q', 'o', 'l'),\n",
       " ('r', 'w', 'k', 'd', 'q', 'l', 'o'),\n",
       " ('r', 'w', 'k', 'd', 'o', 'q', 'l'),\n",
       " ('r', 'w', 'k', 'd', 'o', 'l', 'q'),\n",
       " ('r', 'w', 'k', 'd', 'l', 'q', 'o'),\n",
       " ('r', 'w', 'k', 'd', 'l', 'o', 'q'),\n",
       " ('r', 'w', 'k', 'l', 'q', 'o', 'd'),\n",
       " ('r', 'w', 'k', 'l', 'q', 'd', 'o'),\n",
       " ('r', 'w', 'k', 'l', 'o', 'q', 'd'),\n",
       " ('r', 'w', 'k', 'l', 'o', 'd', 'q'),\n",
       " ('r', 'w', 'k', 'l', 'd', 'q', 'o'),\n",
       " ('r', 'w', 'k', 'l', 'd', 'o', 'q'),\n",
       " ('r', 'w', 'q', 'k', 'o', 'd', 'l'),\n",
       " ('r', 'w', 'q', 'k', 'o', 'l', 'd'),\n",
       " ('r', 'w', 'q', 'k', 'd', 'o', 'l'),\n",
       " ('r', 'w', 'q', 'k', 'd', 'l', 'o'),\n",
       " ('r', 'w', 'q', 'k', 'l', 'o', 'd'),\n",
       " ('r', 'w', 'q', 'k', 'l', 'd', 'o'),\n",
       " ('r', 'w', 'q', 'o', 'k', 'd', 'l'),\n",
       " ('r', 'w', 'q', 'o', 'k', 'l', 'd'),\n",
       " ('r', 'w', 'q', 'o', 'd', 'k', 'l'),\n",
       " ('r', 'w', 'q', 'o', 'd', 'l', 'k'),\n",
       " ('r', 'w', 'q', 'o', 'l', 'k', 'd'),\n",
       " ('r', 'w', 'q', 'o', 'l', 'd', 'k'),\n",
       " ('r', 'w', 'q', 'd', 'k', 'o', 'l'),\n",
       " ('r', 'w', 'q', 'd', 'k', 'l', 'o'),\n",
       " ('r', 'w', 'q', 'd', 'o', 'k', 'l'),\n",
       " ('r', 'w', 'q', 'd', 'o', 'l', 'k'),\n",
       " ('r', 'w', 'q', 'd', 'l', 'k', 'o'),\n",
       " ('r', 'w', 'q', 'd', 'l', 'o', 'k'),\n",
       " ('r', 'w', 'q', 'l', 'k', 'o', 'd'),\n",
       " ('r', 'w', 'q', 'l', 'k', 'd', 'o'),\n",
       " ('r', 'w', 'q', 'l', 'o', 'k', 'd'),\n",
       " ('r', 'w', 'q', 'l', 'o', 'd', 'k'),\n",
       " ('r', 'w', 'q', 'l', 'd', 'k', 'o'),\n",
       " ('r', 'w', 'q', 'l', 'd', 'o', 'k'),\n",
       " ('r', 'w', 'o', 'k', 'q', 'd', 'l'),\n",
       " ('r', 'w', 'o', 'k', 'q', 'l', 'd'),\n",
       " ('r', 'w', 'o', 'k', 'd', 'q', 'l'),\n",
       " ('r', 'w', 'o', 'k', 'd', 'l', 'q'),\n",
       " ('r', 'w', 'o', 'k', 'l', 'q', 'd'),\n",
       " ('r', 'w', 'o', 'k', 'l', 'd', 'q'),\n",
       " ('r', 'w', 'o', 'q', 'k', 'd', 'l'),\n",
       " ('r', 'w', 'o', 'q', 'k', 'l', 'd'),\n",
       " ('r', 'w', 'o', 'q', 'd', 'k', 'l'),\n",
       " ('r', 'w', 'o', 'q', 'd', 'l', 'k'),\n",
       " ('r', 'w', 'o', 'q', 'l', 'k', 'd'),\n",
       " ('r', 'w', 'o', 'q', 'l', 'd', 'k'),\n",
       " ('r', 'w', 'o', 'd', 'k', 'q', 'l'),\n",
       " ('r', 'w', 'o', 'd', 'k', 'l', 'q'),\n",
       " ('r', 'w', 'o', 'd', 'q', 'k', 'l'),\n",
       " ('r', 'w', 'o', 'd', 'q', 'l', 'k'),\n",
       " ('r', 'w', 'o', 'd', 'l', 'k', 'q'),\n",
       " ('r', 'w', 'o', 'd', 'l', 'q', 'k'),\n",
       " ('r', 'w', 'o', 'l', 'k', 'q', 'd'),\n",
       " ('r', 'w', 'o', 'l', 'k', 'd', 'q'),\n",
       " ('r', 'w', 'o', 'l', 'q', 'k', 'd'),\n",
       " ('r', 'w', 'o', 'l', 'q', 'd', 'k'),\n",
       " ('r', 'w', 'o', 'l', 'd', 'k', 'q'),\n",
       " ('r', 'w', 'o', 'l', 'd', 'q', 'k'),\n",
       " ('r', 'w', 'd', 'k', 'q', 'o', 'l'),\n",
       " ('r', 'w', 'd', 'k', 'q', 'l', 'o'),\n",
       " ('r', 'w', 'd', 'k', 'o', 'q', 'l'),\n",
       " ('r', 'w', 'd', 'k', 'o', 'l', 'q'),\n",
       " ('r', 'w', 'd', 'k', 'l', 'q', 'o'),\n",
       " ('r', 'w', 'd', 'k', 'l', 'o', 'q'),\n",
       " ('r', 'w', 'd', 'q', 'k', 'o', 'l'),\n",
       " ('r', 'w', 'd', 'q', 'k', 'l', 'o'),\n",
       " ('r', 'w', 'd', 'q', 'o', 'k', 'l'),\n",
       " ('r', 'w', 'd', 'q', 'o', 'l', 'k'),\n",
       " ('r', 'w', 'd', 'q', 'l', 'k', 'o'),\n",
       " ('r', 'w', 'd', 'q', 'l', 'o', 'k'),\n",
       " ('r', 'w', 'd', 'o', 'k', 'q', 'l'),\n",
       " ('r', 'w', 'd', 'o', 'k', 'l', 'q'),\n",
       " ('r', 'w', 'd', 'o', 'q', 'k', 'l'),\n",
       " ('r', 'w', 'd', 'o', 'q', 'l', 'k'),\n",
       " ('r', 'w', 'd', 'o', 'l', 'k', 'q'),\n",
       " ('r', 'w', 'd', 'o', 'l', 'q', 'k'),\n",
       " ('r', 'w', 'd', 'l', 'k', 'q', 'o'),\n",
       " ('r', 'w', 'd', 'l', 'k', 'o', 'q'),\n",
       " ('r', 'w', 'd', 'l', 'q', 'k', 'o'),\n",
       " ('r', 'w', 'd', 'l', 'q', 'o', 'k'),\n",
       " ('r', 'w', 'd', 'l', 'o', 'k', 'q'),\n",
       " ('r', 'w', 'd', 'l', 'o', 'q', 'k'),\n",
       " ('r', 'w', 'l', 'k', 'q', 'o', 'd'),\n",
       " ('r', 'w', 'l', 'k', 'q', 'd', 'o'),\n",
       " ('r', 'w', 'l', 'k', 'o', 'q', 'd'),\n",
       " ('r', 'w', 'l', 'k', 'o', 'd', 'q'),\n",
       " ('r', 'w', 'l', 'k', 'd', 'q', 'o'),\n",
       " ('r', 'w', 'l', 'k', 'd', 'o', 'q'),\n",
       " ('r', 'w', 'l', 'q', 'k', 'o', 'd'),\n",
       " ('r', 'w', 'l', 'q', 'k', 'd', 'o'),\n",
       " ('r', 'w', 'l', 'q', 'o', 'k', 'd'),\n",
       " ('r', 'w', 'l', 'q', 'o', 'd', 'k'),\n",
       " ('r', 'w', 'l', 'q', 'd', 'k', 'o'),\n",
       " ('r', 'w', 'l', 'q', 'd', 'o', 'k'),\n",
       " ('r', 'w', 'l', 'o', 'k', 'q', 'd'),\n",
       " ('r', 'w', 'l', 'o', 'k', 'd', 'q'),\n",
       " ('r', 'w', 'l', 'o', 'q', 'k', 'd'),\n",
       " ('r', 'w', 'l', 'o', 'q', 'd', 'k'),\n",
       " ('r', 'w', 'l', 'o', 'd', 'k', 'q'),\n",
       " ('r', 'w', 'l', 'o', 'd', 'q', 'k'),\n",
       " ('r', 'w', 'l', 'd', 'k', 'q', 'o'),\n",
       " ('r', 'w', 'l', 'd', 'k', 'o', 'q'),\n",
       " ('r', 'w', 'l', 'd', 'q', 'k', 'o'),\n",
       " ('r', 'w', 'l', 'd', 'q', 'o', 'k'),\n",
       " ('r', 'w', 'l', 'd', 'o', 'k', 'q'),\n",
       " ('r', 'w', 'l', 'd', 'o', 'q', 'k'),\n",
       " ('k', 'r', 'q', 'o', 'd', 'l', 'w'),\n",
       " ('k', 'r', 'q', 'o', 'd', 'w', 'l'),\n",
       " ('k', 'r', 'q', 'o', 'l', 'd', 'w'),\n",
       " ('k', 'r', 'q', 'o', 'l', 'w', 'd'),\n",
       " ('k', 'r', 'q', 'o', 'w', 'd', 'l'),\n",
       " ('k', 'r', 'q', 'o', 'w', 'l', 'd'),\n",
       " ('k', 'r', 'q', 'd', 'o', 'l', 'w'),\n",
       " ('k', 'r', 'q', 'd', 'o', 'w', 'l'),\n",
       " ('k', 'r', 'q', 'd', 'l', 'o', 'w'),\n",
       " ('k', 'r', 'q', 'd', 'l', 'w', 'o'),\n",
       " ('k', 'r', 'q', 'd', 'w', 'o', 'l'),\n",
       " ('k', 'r', 'q', 'd', 'w', 'l', 'o'),\n",
       " ('k', 'r', 'q', 'l', 'o', 'd', 'w'),\n",
       " ('k', 'r', 'q', 'l', 'o', 'w', 'd'),\n",
       " ('k', 'r', 'q', 'l', 'd', 'o', 'w'),\n",
       " ('k', 'r', 'q', 'l', 'd', 'w', 'o'),\n",
       " ('k', 'r', 'q', 'l', 'w', 'o', 'd'),\n",
       " ('k', 'r', 'q', 'l', 'w', 'd', 'o'),\n",
       " ('k', 'r', 'q', 'w', 'o', 'd', 'l'),\n",
       " ('k', 'r', 'q', 'w', 'o', 'l', 'd'),\n",
       " ('k', 'r', 'q', 'w', 'd', 'o', 'l'),\n",
       " ('k', 'r', 'q', 'w', 'd', 'l', 'o'),\n",
       " ('k', 'r', 'q', 'w', 'l', 'o', 'd'),\n",
       " ('k', 'r', 'q', 'w', 'l', 'd', 'o'),\n",
       " ('k', 'r', 'o', 'q', 'd', 'l', 'w'),\n",
       " ('k', 'r', 'o', 'q', 'd', 'w', 'l'),\n",
       " ('k', 'r', 'o', 'q', 'l', 'd', 'w'),\n",
       " ('k', 'r', 'o', 'q', 'l', 'w', 'd'),\n",
       " ('k', 'r', 'o', 'q', 'w', 'd', 'l'),\n",
       " ('k', 'r', 'o', 'q', 'w', 'l', 'd'),\n",
       " ('k', 'r', 'o', 'd', 'q', 'l', 'w'),\n",
       " ('k', 'r', 'o', 'd', 'q', 'w', 'l'),\n",
       " ('k', 'r', 'o', 'd', 'l', 'q', 'w'),\n",
       " ('k', 'r', 'o', 'd', 'l', 'w', 'q'),\n",
       " ('k', 'r', 'o', 'd', 'w', 'q', 'l'),\n",
       " ('k', 'r', 'o', 'd', 'w', 'l', 'q'),\n",
       " ('k', 'r', 'o', 'l', 'q', 'd', 'w'),\n",
       " ('k', 'r', 'o', 'l', 'q', 'w', 'd'),\n",
       " ('k', 'r', 'o', 'l', 'd', 'q', 'w'),\n",
       " ('k', 'r', 'o', 'l', 'd', 'w', 'q'),\n",
       " ('k', 'r', 'o', 'l', 'w', 'q', 'd'),\n",
       " ('k', 'r', 'o', 'l', 'w', 'd', 'q'),\n",
       " ('k', 'r', 'o', 'w', 'q', 'd', 'l'),\n",
       " ('k', 'r', 'o', 'w', 'q', 'l', 'd'),\n",
       " ('k', 'r', 'o', 'w', 'd', 'q', 'l'),\n",
       " ('k', 'r', 'o', 'w', 'd', 'l', 'q'),\n",
       " ('k', 'r', 'o', 'w', 'l', 'q', 'd'),\n",
       " ('k', 'r', 'o', 'w', 'l', 'd', 'q'),\n",
       " ('k', 'r', 'd', 'q', 'o', 'l', 'w'),\n",
       " ('k', 'r', 'd', 'q', 'o', 'w', 'l'),\n",
       " ('k', 'r', 'd', 'q', 'l', 'o', 'w'),\n",
       " ('k', 'r', 'd', 'q', 'l', 'w', 'o'),\n",
       " ('k', 'r', 'd', 'q', 'w', 'o', 'l'),\n",
       " ('k', 'r', 'd', 'q', 'w', 'l', 'o'),\n",
       " ('k', 'r', 'd', 'o', 'q', 'l', 'w'),\n",
       " ('k', 'r', 'd', 'o', 'q', 'w', 'l'),\n",
       " ('k', 'r', 'd', 'o', 'l', 'q', 'w'),\n",
       " ('k', 'r', 'd', 'o', 'l', 'w', 'q'),\n",
       " ('k', 'r', 'd', 'o', 'w', 'q', 'l'),\n",
       " ('k', 'r', 'd', 'o', 'w', 'l', 'q'),\n",
       " ('k', 'r', 'd', 'l', 'q', 'o', 'w'),\n",
       " ('k', 'r', 'd', 'l', 'q', 'w', 'o'),\n",
       " ('k', 'r', 'd', 'l', 'o', 'q', 'w'),\n",
       " ('k', 'r', 'd', 'l', 'o', 'w', 'q'),\n",
       " ('k', 'r', 'd', 'l', 'w', 'q', 'o'),\n",
       " ('k', 'r', 'd', 'l', 'w', 'o', 'q'),\n",
       " ('k', 'r', 'd', 'w', 'q', 'o', 'l'),\n",
       " ('k', 'r', 'd', 'w', 'q', 'l', 'o'),\n",
       " ('k', 'r', 'd', 'w', 'o', 'q', 'l'),\n",
       " ('k', 'r', 'd', 'w', 'o', 'l', 'q'),\n",
       " ('k', 'r', 'd', 'w', 'l', 'q', 'o'),\n",
       " ('k', 'r', 'd', 'w', 'l', 'o', 'q'),\n",
       " ('k', 'r', 'l', 'q', 'o', 'd', 'w'),\n",
       " ('k', 'r', 'l', 'q', 'o', 'w', 'd'),\n",
       " ('k', 'r', 'l', 'q', 'd', 'o', 'w'),\n",
       " ('k', 'r', 'l', 'q', 'd', 'w', 'o'),\n",
       " ('k', 'r', 'l', 'q', 'w', 'o', 'd'),\n",
       " ('k', 'r', 'l', 'q', 'w', 'd', 'o'),\n",
       " ('k', 'r', 'l', 'o', 'q', 'd', 'w'),\n",
       " ('k', 'r', 'l', 'o', 'q', 'w', 'd'),\n",
       " ('k', 'r', 'l', 'o', 'd', 'q', 'w'),\n",
       " ('k', 'r', 'l', 'o', 'd', 'w', 'q'),\n",
       " ('k', 'r', 'l', 'o', 'w', 'q', 'd'),\n",
       " ('k', 'r', 'l', 'o', 'w', 'd', 'q'),\n",
       " ('k', 'r', 'l', 'd', 'q', 'o', 'w'),\n",
       " ('k', 'r', 'l', 'd', 'q', 'w', 'o'),\n",
       " ('k', 'r', 'l', 'd', 'o', 'q', 'w'),\n",
       " ('k', 'r', 'l', 'd', 'o', 'w', 'q'),\n",
       " ('k', 'r', 'l', 'd', 'w', 'q', 'o'),\n",
       " ('k', 'r', 'l', 'd', 'w', 'o', 'q'),\n",
       " ('k', 'r', 'l', 'w', 'q', 'o', 'd'),\n",
       " ('k', 'r', 'l', 'w', 'q', 'd', 'o'),\n",
       " ('k', 'r', 'l', 'w', 'o', 'q', 'd'),\n",
       " ('k', 'r', 'l', 'w', 'o', 'd', 'q'),\n",
       " ('k', 'r', 'l', 'w', 'd', 'q', 'o'),\n",
       " ('k', 'r', 'l', 'w', 'd', 'o', 'q'),\n",
       " ('k', 'r', 'w', 'q', 'o', 'd', 'l'),\n",
       " ('k', 'r', 'w', 'q', 'o', 'l', 'd'),\n",
       " ('k', 'r', 'w', 'q', 'd', 'o', 'l'),\n",
       " ('k', 'r', 'w', 'q', 'd', 'l', 'o'),\n",
       " ('k', 'r', 'w', 'q', 'l', 'o', 'd'),\n",
       " ('k', 'r', 'w', 'q', 'l', 'd', 'o'),\n",
       " ('k', 'r', 'w', 'o', 'q', 'd', 'l'),\n",
       " ('k', 'r', 'w', 'o', 'q', 'l', 'd'),\n",
       " ('k', 'r', 'w', 'o', 'd', 'q', 'l'),\n",
       " ('k', 'r', 'w', 'o', 'd', 'l', 'q'),\n",
       " ('k', 'r', 'w', 'o', 'l', 'q', 'd'),\n",
       " ('k', 'r', 'w', 'o', 'l', 'd', 'q'),\n",
       " ('k', 'r', 'w', 'd', 'q', 'o', 'l'),\n",
       " ('k', 'r', 'w', 'd', 'q', 'l', 'o'),\n",
       " ('k', 'r', 'w', 'd', 'o', 'q', 'l'),\n",
       " ('k', 'r', 'w', 'd', 'o', 'l', 'q'),\n",
       " ('k', 'r', 'w', 'd', 'l', 'q', 'o'),\n",
       " ('k', 'r', 'w', 'd', 'l', 'o', 'q'),\n",
       " ('k', 'r', 'w', 'l', 'q', 'o', 'd'),\n",
       " ('k', 'r', 'w', 'l', 'q', 'd', 'o'),\n",
       " ('k', 'r', 'w', 'l', 'o', 'q', 'd'),\n",
       " ('k', 'r', 'w', 'l', 'o', 'd', 'q'),\n",
       " ('k', 'r', 'w', 'l', 'd', 'q', 'o'),\n",
       " ('k', 'r', 'w', 'l', 'd', 'o', 'q'),\n",
       " ('k', 'q', 'r', 'o', 'd', 'l', 'w'),\n",
       " ('k', 'q', 'r', 'o', 'd', 'w', 'l'),\n",
       " ('k', 'q', 'r', 'o', 'l', 'd', 'w'),\n",
       " ('k', 'q', 'r', 'o', 'l', 'w', 'd'),\n",
       " ('k', 'q', 'r', 'o', 'w', 'd', 'l'),\n",
       " ('k', 'q', 'r', 'o', 'w', 'l', 'd'),\n",
       " ('k', 'q', 'r', 'd', 'o', 'l', 'w'),\n",
       " ('k', 'q', 'r', 'd', 'o', 'w', 'l'),\n",
       " ('k', 'q', 'r', 'd', 'l', 'o', 'w'),\n",
       " ('k', 'q', 'r', 'd', 'l', 'w', 'o'),\n",
       " ('k', 'q', 'r', 'd', 'w', 'o', 'l'),\n",
       " ('k', 'q', 'r', 'd', 'w', 'l', 'o'),\n",
       " ('k', 'q', 'r', 'l', 'o', 'd', 'w'),\n",
       " ('k', 'q', 'r', 'l', 'o', 'w', 'd'),\n",
       " ('k', 'q', 'r', 'l', 'd', 'o', 'w'),\n",
       " ('k', 'q', 'r', 'l', 'd', 'w', 'o'),\n",
       " ('k', 'q', 'r', 'l', 'w', 'o', 'd'),\n",
       " ('k', 'q', 'r', 'l', 'w', 'd', 'o'),\n",
       " ('k', 'q', 'r', 'w', 'o', 'd', 'l'),\n",
       " ('k', 'q', 'r', 'w', 'o', 'l', 'd'),\n",
       " ('k', 'q', 'r', 'w', 'd', 'o', 'l'),\n",
       " ('k', 'q', 'r', 'w', 'd', 'l', 'o'),\n",
       " ('k', 'q', 'r', 'w', 'l', 'o', 'd'),\n",
       " ('k', 'q', 'r', 'w', 'l', 'd', 'o'),\n",
       " ('k', 'q', 'o', 'r', 'd', 'l', 'w'),\n",
       " ('k', 'q', 'o', 'r', 'd', 'w', 'l'),\n",
       " ('k', 'q', 'o', 'r', 'l', 'd', 'w'),\n",
       " ('k', 'q', 'o', 'r', 'l', 'w', 'd'),\n",
       " ('k', 'q', 'o', 'r', 'w', 'd', 'l'),\n",
       " ('k', 'q', 'o', 'r', 'w', 'l', 'd'),\n",
       " ('k', 'q', 'o', 'd', 'r', 'l', 'w'),\n",
       " ('k', 'q', 'o', 'd', 'r', 'w', 'l'),\n",
       " ('k', 'q', 'o', 'd', 'l', 'r', 'w'),\n",
       " ('k', 'q', 'o', 'd', 'l', 'w', 'r'),\n",
       " ('k', 'q', 'o', 'd', 'w', 'r', 'l'),\n",
       " ('k', 'q', 'o', 'd', 'w', 'l', 'r'),\n",
       " ('k', 'q', 'o', 'l', 'r', 'd', 'w'),\n",
       " ('k', 'q', 'o', 'l', 'r', 'w', 'd'),\n",
       " ('k', 'q', 'o', 'l', 'd', 'r', 'w'),\n",
       " ('k', 'q', 'o', 'l', 'd', 'w', 'r'),\n",
       " ('k', 'q', 'o', 'l', 'w', 'r', 'd'),\n",
       " ('k', 'q', 'o', 'l', 'w', 'd', 'r'),\n",
       " ('k', 'q', 'o', 'w', 'r', 'd', 'l'),\n",
       " ('k', 'q', 'o', 'w', 'r', 'l', 'd'),\n",
       " ('k', 'q', 'o', 'w', 'd', 'r', 'l'),\n",
       " ('k', 'q', 'o', 'w', 'd', 'l', 'r'),\n",
       " ('k', 'q', 'o', 'w', 'l', 'r', 'd'),\n",
       " ('k', 'q', 'o', 'w', 'l', 'd', 'r'),\n",
       " ('k', 'q', 'd', 'r', 'o', 'l', 'w'),\n",
       " ('k', 'q', 'd', 'r', 'o', 'w', 'l'),\n",
       " ('k', 'q', 'd', 'r', 'l', 'o', 'w'),\n",
       " ('k', 'q', 'd', 'r', 'l', 'w', 'o'),\n",
       " ('k', 'q', 'd', 'r', 'w', 'o', 'l'),\n",
       " ('k', 'q', 'd', 'r', 'w', 'l', 'o'),\n",
       " ('k', 'q', 'd', 'o', 'r', 'l', 'w'),\n",
       " ('k', 'q', 'd', 'o', 'r', 'w', 'l'),\n",
       " ('k', 'q', 'd', 'o', 'l', 'r', 'w'),\n",
       " ('k', 'q', 'd', 'o', 'l', 'w', 'r'),\n",
       " ('k', 'q', 'd', 'o', 'w', 'r', 'l'),\n",
       " ('k', 'q', 'd', 'o', 'w', 'l', 'r'),\n",
       " ('k', 'q', 'd', 'l', 'r', 'o', 'w'),\n",
       " ('k', 'q', 'd', 'l', 'r', 'w', 'o'),\n",
       " ('k', 'q', 'd', 'l', 'o', 'r', 'w'),\n",
       " ('k', 'q', 'd', 'l', 'o', 'w', 'r'),\n",
       " ('k', 'q', 'd', 'l', 'w', 'r', 'o'),\n",
       " ('k', 'q', 'd', 'l', 'w', 'o', 'r'),\n",
       " ('k', 'q', 'd', 'w', 'r', 'o', 'l'),\n",
       " ('k', 'q', 'd', 'w', 'r', 'l', 'o'),\n",
       " ('k', 'q', 'd', 'w', 'o', 'r', 'l'),\n",
       " ('k', 'q', 'd', 'w', 'o', 'l', 'r'),\n",
       " ('k', 'q', 'd', 'w', 'l', 'r', 'o'),\n",
       " ('k', 'q', 'd', 'w', 'l', 'o', 'r'),\n",
       " ('k', 'q', 'l', 'r', 'o', 'd', 'w'),\n",
       " ('k', 'q', 'l', 'r', 'o', 'w', 'd'),\n",
       " ('k', 'q', 'l', 'r', 'd', 'o', 'w'),\n",
       " ('k', 'q', 'l', 'r', 'd', 'w', 'o'),\n",
       " ('k', 'q', 'l', 'r', 'w', 'o', 'd'),\n",
       " ('k', 'q', 'l', 'r', 'w', 'd', 'o'),\n",
       " ('k', 'q', 'l', 'o', 'r', 'd', 'w'),\n",
       " ('k', 'q', 'l', 'o', 'r', 'w', 'd'),\n",
       " ('k', 'q', 'l', 'o', 'd', 'r', 'w'),\n",
       " ('k', 'q', 'l', 'o', 'd', 'w', 'r'),\n",
       " ('k', 'q', 'l', 'o', 'w', 'r', 'd'),\n",
       " ('k', 'q', 'l', 'o', 'w', 'd', 'r'),\n",
       " ('k', 'q', 'l', 'd', 'r', 'o', 'w'),\n",
       " ('k', 'q', 'l', 'd', 'r', 'w', 'o'),\n",
       " ('k', 'q', 'l', 'd', 'o', 'r', 'w'),\n",
       " ('k', 'q', 'l', 'd', 'o', 'w', 'r'),\n",
       " ('k', 'q', 'l', 'd', 'w', 'r', 'o'),\n",
       " ('k', 'q', 'l', 'd', 'w', 'o', 'r'),\n",
       " ('k', 'q', 'l', 'w', 'r', 'o', 'd'),\n",
       " ('k', 'q', 'l', 'w', 'r', 'd', 'o'),\n",
       " ('k', 'q', 'l', 'w', 'o', 'r', 'd'),\n",
       " ('k', 'q', 'l', 'w', 'o', 'd', 'r'),\n",
       " ('k', 'q', 'l', 'w', 'd', 'r', 'o'),\n",
       " ('k', 'q', 'l', 'w', 'd', 'o', 'r'),\n",
       " ('k', 'q', 'w', 'r', 'o', 'd', 'l'),\n",
       " ('k', 'q', 'w', 'r', 'o', 'l', 'd'),\n",
       " ('k', 'q', 'w', 'r', 'd', 'o', 'l'),\n",
       " ('k', 'q', 'w', 'r', 'd', 'l', 'o'),\n",
       " ('k', 'q', 'w', 'r', 'l', 'o', 'd'),\n",
       " ('k', 'q', 'w', 'r', 'l', 'd', 'o'),\n",
       " ('k', 'q', 'w', 'o', 'r', 'd', 'l'),\n",
       " ('k', 'q', 'w', 'o', 'r', 'l', 'd'),\n",
       " ('k', 'q', 'w', 'o', 'd', 'r', 'l'),\n",
       " ('k', 'q', 'w', 'o', 'd', 'l', 'r'),\n",
       " ('k', 'q', 'w', 'o', 'l', 'r', 'd'),\n",
       " ('k', 'q', 'w', 'o', 'l', 'd', 'r'),\n",
       " ('k', 'q', 'w', 'd', 'r', 'o', 'l'),\n",
       " ('k', 'q', 'w', 'd', 'r', 'l', 'o'),\n",
       " ('k', 'q', 'w', 'd', 'o', 'r', 'l'),\n",
       " ('k', 'q', 'w', 'd', 'o', 'l', 'r'),\n",
       " ('k', 'q', 'w', 'd', 'l', 'r', 'o'),\n",
       " ('k', 'q', 'w', 'd', 'l', 'o', 'r'),\n",
       " ('k', 'q', 'w', 'l', 'r', 'o', 'd'),\n",
       " ('k', 'q', 'w', 'l', 'r', 'd', 'o'),\n",
       " ('k', 'q', 'w', 'l', 'o', 'r', 'd'),\n",
       " ('k', 'q', 'w', 'l', 'o', 'd', 'r'),\n",
       " ('k', 'q', 'w', 'l', 'd', 'r', 'o'),\n",
       " ('k', 'q', 'w', 'l', 'd', 'o', 'r'),\n",
       " ('k', 'o', 'r', 'q', 'd', 'l', 'w'),\n",
       " ('k', 'o', 'r', 'q', 'd', 'w', 'l'),\n",
       " ('k', 'o', 'r', 'q', 'l', 'd', 'w'),\n",
       " ('k', 'o', 'r', 'q', 'l', 'w', 'd'),\n",
       " ('k', 'o', 'r', 'q', 'w', 'd', 'l'),\n",
       " ('k', 'o', 'r', 'q', 'w', 'l', 'd'),\n",
       " ('k', 'o', 'r', 'd', 'q', 'l', 'w'),\n",
       " ('k', 'o', 'r', 'd', 'q', 'w', 'l'),\n",
       " ('k', 'o', 'r', 'd', 'l', 'q', 'w'),\n",
       " ('k', 'o', 'r', 'd', 'l', 'w', 'q'),\n",
       " ('k', 'o', 'r', 'd', 'w', 'q', 'l'),\n",
       " ('k', 'o', 'r', 'd', 'w', 'l', 'q'),\n",
       " ('k', 'o', 'r', 'l', 'q', 'd', 'w'),\n",
       " ('k', 'o', 'r', 'l', 'q', 'w', 'd'),\n",
       " ('k', 'o', 'r', 'l', 'd', 'q', 'w'),\n",
       " ('k', 'o', 'r', 'l', 'd', 'w', 'q'),\n",
       " ('k', 'o', 'r', 'l', 'w', 'q', 'd'),\n",
       " ('k', 'o', 'r', 'l', 'w', 'd', 'q'),\n",
       " ('k', 'o', 'r', 'w', 'q', 'd', 'l'),\n",
       " ('k', 'o', 'r', 'w', 'q', 'l', 'd'),\n",
       " ('k', 'o', 'r', 'w', 'd', 'q', 'l'),\n",
       " ('k', 'o', 'r', 'w', 'd', 'l', 'q'),\n",
       " ('k', 'o', 'r', 'w', 'l', 'q', 'd'),\n",
       " ('k', 'o', 'r', 'w', 'l', 'd', 'q'),\n",
       " ('k', 'o', 'q', 'r', 'd', 'l', 'w'),\n",
       " ('k', 'o', 'q', 'r', 'd', 'w', 'l'),\n",
       " ('k', 'o', 'q', 'r', 'l', 'd', 'w'),\n",
       " ('k', 'o', 'q', 'r', 'l', 'w', 'd'),\n",
       " ('k', 'o', 'q', 'r', 'w', 'd', 'l'),\n",
       " ('k', 'o', 'q', 'r', 'w', 'l', 'd'),\n",
       " ('k', 'o', 'q', 'd', 'r', 'l', 'w'),\n",
       " ('k', 'o', 'q', 'd', 'r', 'w', 'l'),\n",
       " ('k', 'o', 'q', 'd', 'l', 'r', 'w'),\n",
       " ('k', 'o', 'q', 'd', 'l', 'w', 'r'),\n",
       " ('k', 'o', 'q', 'd', 'w', 'r', 'l'),\n",
       " ('k', 'o', 'q', 'd', 'w', 'l', 'r'),\n",
       " ('k', 'o', 'q', 'l', 'r', 'd', 'w'),\n",
       " ('k', 'o', 'q', 'l', 'r', 'w', 'd'),\n",
       " ('k', 'o', 'q', 'l', 'd', 'r', 'w'),\n",
       " ('k', 'o', 'q', 'l', 'd', 'w', 'r'),\n",
       " ...]"
      ]
     },
     "execution_count": 19,
     "metadata": {},
     "output_type": "execute_result"
    }
   ],
   "source": [
    "from itertools import permutations\n",
    "\n",
    "list(permutations(list('rkqodlw'), len(list('rkqodlw'))))"
   ]
  },
  {
   "cell_type": "code",
   "execution_count": 1,
   "id": "d77bd254",
   "metadata": {},
   "outputs": [
    {
     "name": "stdout",
     "output_type": "stream",
     "text": [
      "Updated value after call_by_val: 12\n",
      "Updated list after call_by_ref: ['E', 'D']\n"
     ]
    }
   ],
   "source": [
    "def call_by_val(x):\n",
    "    x = x * 2\n",
    "    return x\n",
    "\n",
    "\n",
    "def call_by_ref(b):\n",
    "    b.append(\"D\")\n",
    "    return b\n",
    "\n",
    "\n",
    "a = [\"E\"]\n",
    "num = 6\n",
    "\n",
    "# Call functions\n",
    "updated_num = call_by_val(num)\n",
    "updated_list = call_by_ref(a)\n",
    "\n",
    "# Print after function calls\n",
    "print(\"Updated value after call_by_val:\", updated_num)\n",
    "print(\"Updated list after call_by_ref:\", updated_list)"
   ]
  },
  {
   "cell_type": "code",
   "execution_count": 3,
   "id": "35833ef2",
   "metadata": {},
   "outputs": [
    {
     "name": "stdout",
     "output_type": "stream",
     "text": [
      "GEEKSFORGEEKS TEST\n"
     ]
    }
   ],
   "source": [
    "s1 = 'GeeksforGeeks'\n",
    "s3 = 'test'\n",
    "\n",
    "s2 = lambda func, func2: func.upper() + ' ' + func2.upper()\n",
    "print(s2(s1, s3))"
   ]
  },
  {
   "cell_type": "code",
   "execution_count": 9,
   "id": "229c89ce",
   "metadata": {},
   "outputs": [],
   "source": [
    "test = ([1, 2], 'b')"
   ]
  },
  {
   "cell_type": "code",
   "execution_count": 2,
   "id": "9cb2ac4d",
   "metadata": {},
   "outputs": [],
   "source": [
    "test = (i for i in (1, 2, 3))"
   ]
  },
  {
   "cell_type": "code",
   "execution_count": 4,
   "id": "ccaef708",
   "metadata": {},
   "outputs": [
    {
     "data": {
      "text/plain": [
       "1"
      ]
     },
     "execution_count": 4,
     "metadata": {},
     "output_type": "execute_result"
    }
   ],
   "source": [
    "next(test)"
   ]
  },
  {
   "cell_type": "code",
   "execution_count": 5,
   "id": "4b604485",
   "metadata": {},
   "outputs": [
    {
     "data": {
      "text/plain": [
       "2"
      ]
     },
     "execution_count": 5,
     "metadata": {},
     "output_type": "execute_result"
    }
   ],
   "source": [
    "next(test)"
   ]
  },
  {
   "cell_type": "code",
   "execution_count": 6,
   "id": "3d1b4d1e",
   "metadata": {},
   "outputs": [
    {
     "data": {
      "text/plain": [
       "3"
      ]
     },
     "execution_count": 6,
     "metadata": {},
     "output_type": "execute_result"
    }
   ],
   "source": [
    "next(test)"
   ]
  },
  {
   "cell_type": "code",
   "execution_count": 13,
   "id": "889d08b8",
   "metadata": {},
   "outputs": [
    {
     "name": "stdout",
     "output_type": "stream",
     "text": [
      "Before method execution\n",
      "MAKE ME\n",
      "After method execution\n"
     ]
    },
    {
     "data": {
      "text/plain": [
       "'MAKE ME'"
      ]
     },
     "execution_count": 13,
     "metadata": {},
     "output_type": "execute_result"
    }
   ],
   "source": [
    "def method_decorator(func):\n",
    "    def wrapper(*args, **kwargs):\n",
    "        print(\"Before method execution\")\n",
    "        res = func(*args, **kwargs)\n",
    "        print(res)\n",
    "        print(\"After method execution\")\n",
    "        return res\n",
    "    return wrapper\n",
    "\n",
    "@method_decorator\n",
    "def test(word: str):\n",
    "    return word.upper()\n",
    "\n",
    "\n",
    "test('make me')"
   ]
  },
  {
   "cell_type": "code",
   "execution_count": 15,
   "id": "7a02a188",
   "metadata": {},
   "outputs": [
    {
     "name": "stderr",
     "output_type": "stream",
     "text": [
      "INFO:root:Processing started...\n"
     ]
    }
   ],
   "source": [
    "import logging\n",
    "\n",
    "logging.basicConfig(level=logging.INFO)\n",
    "logging.info(\"Processing started...\")"
   ]
  },
  {
   "cell_type": "code",
   "execution_count": 17,
   "id": "453e88ac",
   "metadata": {},
   "outputs": [],
   "source": [
    "def testing(max_num: int):\n",
    "    for num in range(max_num):\n",
    "        yield num\n",
    "        \n",
    "gen = testing(5)"
   ]
  },
  {
   "cell_type": "code",
   "execution_count": 18,
   "id": "602812e8",
   "metadata": {},
   "outputs": [
    {
     "data": {
      "text/plain": [
       "0"
      ]
     },
     "execution_count": 18,
     "metadata": {},
     "output_type": "execute_result"
    }
   ],
   "source": [
    "next(gen)"
   ]
  },
  {
   "cell_type": "code",
   "execution_count": 19,
   "id": "ea5be3a2",
   "metadata": {},
   "outputs": [
    {
     "data": {
      "text/plain": [
       "1"
      ]
     },
     "execution_count": 19,
     "metadata": {},
     "output_type": "execute_result"
    }
   ],
   "source": [
    "next(gen)"
   ]
  }
 ],
 "metadata": {
  "kernelspec": {
   "display_name": "Python 3",
   "language": "python",
   "name": "python3"
  },
  "language_info": {
   "codemirror_mode": {
    "name": "ipython",
    "version": 3
   },
   "file_extension": ".py",
   "mimetype": "text/x-python",
   "name": "python",
   "nbconvert_exporter": "python",
   "pygments_lexer": "ipython3",
   "version": "3.undefined.undefined"
  }
 },
 "nbformat": 4,
 "nbformat_minor": 5
}
